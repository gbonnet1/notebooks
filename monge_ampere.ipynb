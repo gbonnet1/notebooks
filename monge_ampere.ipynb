{
 "cells": [
  {
   "cell_type": "markdown",
   "metadata": {
    "cell_marker": "\"\"\"",
    "lines_to_next_cell": 2
   },
   "source": [
    "# Monge-Ampère equations"
   ]
  },
  {
   "cell_type": "code",
   "execution_count": 1,
   "metadata": {},
   "outputs": [],
   "source": [
    "import agd.LinearParallel as lp\n",
    "import matplotlib.pyplot as plt\n",
    "import numpy as np\n",
    "from agd import Domain, Selling\n",
    "from agd.AutomaticDifferentiation.Optimization import newton_root"
   ]
  },
  {
   "cell_type": "code",
   "execution_count": 2,
   "metadata": {
    "lines_to_next_cell": 2
   },
   "outputs": [],
   "source": [
    "x = np.stack(np.meshgrid(*(2 * [np.linspace(-1, 1, 100)]), indexing=\"ij\"))\n",
    "\n",
    "superbases = Selling.SuperbasesForConditioning(15)"
   ]
  },
  {
   "cell_type": "markdown",
   "metadata": {
    "cell_marker": "\"\"\""
   },
   "source": [
    "## 1. The discretized equation"
   ]
  },
  {
   "cell_type": "code",
   "execution_count": 3,
   "metadata": {},
   "outputs": [],
   "source": [
    "def MA(u, A, B, bc, superbases):\n",
    "    superbases = np.multiply.outer(superbases, np.ones(u.shape, dtype=np.int64))\n",
    "\n",
    "    du = bc.DiffCentered(u, [[1, 0], [0, 1]])\n",
    "    d2u = bc.Diff2(u, lp.perp(superbases))\n",
    "\n",
    "    a = A(bc.grid, u, du)\n",
    "    b = B(bc.grid, u, du)\n",
    "\n",
    "    delta = d2u - lp.dot_VAV(\n",
    "        lp.perp(superbases), a[:, :, np.newaxis, np.newaxis], lp.perp(superbases)\n",
    "    )\n",
    "\n",
    "    residue = -np.inf\n",
    "\n",
    "    W = (\n",
    "        -np.stack(\n",
    "            [\n",
    "                np.roll(superbases[0], 1, axis=0) * np.roll(superbases[0], 2, axis=0)\n",
    "                - np.roll(superbases[1], 1, axis=0) * np.roll(superbases[1], 2, axis=0),\n",
    "                np.roll(superbases[0], 1, axis=0) * np.roll(superbases[1], 2, axis=0)\n",
    "                + np.roll(superbases[1], 1, axis=0) * np.roll(superbases[0], 2, axis=0),\n",
    "            ]\n",
    "        )\n",
    "        / 2\n",
    "    )\n",
    "    w = -lp.dot_VV(np.roll(superbases, 1, axis=1), np.roll(superbases, 2, axis=1)) / 2\n",
    "\n",
    "    q = lp.dot_AV(W, delta)\n",
    "    r = np.sqrt(b + lp.dot_VV(q, q))\n",
    "\n",
    "    residue = np.maximum(\n",
    "        residue,\n",
    "        np.max(\n",
    "            np.where(\n",
    "                np.all(lp.dot_VA(q, W) <= r * w, axis=0),\n",
    "                r - lp.dot_VV(w, delta),\n",
    "                -np.inf,\n",
    "            ),\n",
    "            axis=0,\n",
    "        ),\n",
    "    )\n",
    "\n",
    "    bases = np.concatenate(\n",
    "        [superbases[:, [0, 1]], superbases[:, [0, 2]], superbases[:, [1, 2]]], axis=2\n",
    "    )\n",
    "    delta_bases = np.concatenate([delta[[0, 1]], delta[[0, 2]], delta[[1, 2]]], axis=1)\n",
    "\n",
    "    residue = np.maximum(\n",
    "        residue,\n",
    "        np.max(\n",
    "            np.sqrt(\n",
    "                b\n",
    "                * lp.det(bases) ** 2\n",
    "                / (\n",
    "                    lp.dot_VV(bases[:, 0], bases[:, 0])\n",
    "                    * lp.dot_VV(bases[:, 1], bases[:, 1])\n",
    "                )\n",
    "                + (\n",
    "                    delta_bases[0] / lp.dot_VV(bases[:, 0], bases[:, 0])\n",
    "                    - delta_bases[1] / lp.dot_VV(bases[:, 1], bases[:, 1])\n",
    "                )\n",
    "                ** 2\n",
    "                / 4\n",
    "            )\n",
    "            - (\n",
    "                delta_bases[0] / lp.dot_VV(bases[:, 0], bases[:, 0])\n",
    "                + delta_bases[1] / lp.dot_VV(bases[:, 1], bases[:, 1])\n",
    "            )\n",
    "            / 2,\n",
    "            axis=0,\n",
    "        ),\n",
    "    )\n",
    "\n",
    "    return residue"
   ]
  },
  {
   "cell_type": "markdown",
   "metadata": {
    "cell_marker": "\"\"\""
   },
   "source": [
    "## 2. Dirichlet boundary conditions"
   ]
  },
  {
   "cell_type": "code",
   "execution_count": 4,
   "metadata": {},
   "outputs": [],
   "source": [
    "def SchemeDirichlet(u, A, B, bc, superbases):\n",
    "    return np.where(bc.interior, MA(u, A, B, bc, superbases), u - bc.grid_values)"
   ]
  },
  {
   "cell_type": "code",
   "execution_count": 5,
   "metadata": {
    "lines_to_next_cell": 2
   },
   "outputs": [
    {
     "name": "stderr",
     "output_type": "stream",
     "text": [
      "/Users/guillaume/.pyenv/versions/3.8.2/envs/notebooks/lib/python3.8/site-packages/agd/AutomaticDifferentiation/Base.py:156: RuntimeWarning: invalid value encountered in less_equal\n",
      "  return self.value.__array_ufunc__(ufunc,method,*inputs_,**kwargs)\n",
      "/Users/guillaume/.pyenv/versions/3.8.2/envs/notebooks/lib/python3.8/site-packages/agd/AutomaticDifferentiation/Base.py:156: RuntimeWarning: invalid value encountered in greater\n",
      "  return self.value.__array_ufunc__(ufunc,method,*inputs_,**kwargs)\n"
     ]
    },
    {
     "name": "stderr",
     "output_type": "stream",
     "text": [
      "/Users/guillaume/.pyenv/versions/3.8.2/envs/notebooks/lib/python3.8/site-packages/agd/AutomaticDifferentiation/Base.py:156: RuntimeWarning: invalid value encountered in less_equal\n",
      "  return self.value.__array_ufunc__(ufunc,method,*inputs_,**kwargs)\n",
      "/Users/guillaume/.pyenv/versions/3.8.2/envs/notebooks/lib/python3.8/site-packages/agd/AutomaticDifferentiation/Base.py:156: RuntimeWarning: invalid value encountered in greater\n",
      "  return self.value.__array_ufunc__(ufunc,method,*inputs_,**kwargs)\n"
     ]
    },
    {
     "name": "stdout",
     "output_type": "stream",
     "text": [
      "Iteration: 1  Residue norm: 3.8923205646025547\n"
     ]
    },
    {
     "name": "stdout",
     "output_type": "stream",
     "text": [
      "Iteration: 2  Residue norm: 1.2872701009837755\n"
     ]
    },
    {
     "name": "stdout",
     "output_type": "stream",
     "text": [
      "Iteration: 3  Residue norm: 0.15508821829617014\n"
     ]
    },
    {
     "name": "stdout",
     "output_type": "stream",
     "text": [
      "Iteration: 4  Residue norm: 0.07236370901154093\n"
     ]
    },
    {
     "name": "stdout",
     "output_type": "stream",
     "text": [
      "Iteration: 5  Residue norm: 0.00892514430203839\n"
     ]
    },
    {
     "name": "stdout",
     "output_type": "stream",
     "text": [
      "Iteration: 6  Residue norm: 0.0005930582622555303\n"
     ]
    },
    {
     "name": "stdout",
     "output_type": "stream",
     "text": [
      "Iteration: 8  Residue norm: 9.136935652520606e-11\n",
      "Target residue reached. Terminating.\n"
     ]
    },
    {
     "data": {
      "image/png": "[encoded data removed]",
      "text/plain": [
       "<Figure size 432x288 with 1 Axes>"
      ]
     },
     "metadata": {
      "needs_background": "light"
     },
     "output_type": "display_data"
    }
   ],
   "source": [
    "def A(x, r, p):\n",
    "    return np.zeros((2, 2) + x.shape[1:])\n",
    "\n",
    "\n",
    "def B(x, r, p):\n",
    "    return np.ones(x.shape[1:])\n",
    "\n",
    "\n",
    "bc = Domain.Dirichlet(Domain.Box([[-1, 1], [-1, 1]]), 0.0, x)\n",
    "\n",
    "u = newton_root(SchemeDirichlet, np.zeros(x.shape[1:]), (A, B, bc, superbases))\n",
    "\n",
    "plt.contourf(*x, u)\n",
    "plt.show()"
   ]
  },
  {
   "cell_type": "markdown",
   "metadata": {
    "cell_marker": "\"\"\""
   },
   "source": [
    "### 2.1. Comparison with the exact solution"
   ]
  },
  {
   "cell_type": "code",
   "execution_count": 6,
   "metadata": {
    "lines_to_next_cell": 2
   },
   "outputs": [
    {
     "name": "stdout",
     "output_type": "stream",
     "text": [
      "Iteration: 1  Residue norm: 73.38824828669112\n"
     ]
    },
    {
     "name": "stdout",
     "output_type": "stream",
     "text": [
      "Iteration: 2  Residue norm: 2.5289149038949263\n"
     ]
    },
    {
     "name": "stdout",
     "output_type": "stream",
     "text": [
      "Iteration: 3  Residue norm: 0.7503878059341889\n"
     ]
    },
    {
     "name": "stdout",
     "output_type": "stream",
     "text": [
      "Iteration: 4  Residue norm: 0.08520012557306544\n"
     ]
    },
    {
     "name": "stdout",
     "output_type": "stream",
     "text": [
      "Iteration: 5  Residue norm: 0.004053121782701563\n"
     ]
    },
    {
     "name": "stdout",
     "output_type": "stream",
     "text": [
      "Iteration: 6  Residue norm: 1.0534494084835089e-05\n"
     ]
    },
    {
     "name": "stdout",
     "output_type": "stream",
     "text": [
      "Iteration: 7  Residue norm: 6.760325632626518e-11\n",
      "Target residue reached. Terminating.\n"
     ]
    },
    {
     "data": {
      "image/png": "[encoded data removed]",
      "text/plain": [
       "<Figure size 432x288 with 1 Axes>"
      ]
     },
     "metadata": {
      "needs_background": "light"
     },
     "output_type": "display_data"
    },
    {
     "name": "stdout",
     "output_type": "stream",
     "text": [
      "Error: 7.667856488336369e-05\n"
     ]
    }
   ],
   "source": [
    "def Exact(x):\n",
    "    return (lp.dot_VV(x, x) + lp.dot_VV(x, x) ** 2) / 6\n",
    "\n",
    "\n",
    "def A(x, r, p):\n",
    "    return np.zeros((2, 2) + x.shape[1:])\n",
    "\n",
    "\n",
    "def B(x, r, p):\n",
    "    return (4 + 32 * lp.dot_VV(x, x) + 48 * lp.dot_VV(x, x) ** 2) / 36\n",
    "\n",
    "\n",
    "bc = Domain.Dirichlet(Domain.Ball(), 1 / 3, x)\n",
    "\n",
    "u = newton_root(SchemeDirichlet, np.zeros(x.shape[1:]), (A, B, bc, superbases))\n",
    "\n",
    "plt.contourf(*x, u)\n",
    "plt.show()\n",
    "\n",
    "err = np.where(bc.interior, u - Exact(x), 0)\n",
    "print(\"Error:\", np.max(np.abs(err)))"
   ]
  },
  {
   "cell_type": "code",
   "execution_count": 7,
   "metadata": {
    "lines_to_next_cell": 2
   },
   "outputs": [
    {
     "name": "stdout",
     "output_type": "stream",
     "text": [
      "Iteration: 1  Residue norm: 36654.50553736479\n"
     ]
    },
    {
     "name": "stdout",
     "output_type": "stream",
     "text": [
      "Iteration: 2  Residue norm: 8674.717093766165\n"
     ]
    },
    {
     "name": "stdout",
     "output_type": "stream",
     "text": [
      "Iteration: 3  Residue norm: 2035.9275470782238\n"
     ]
    },
    {
     "name": "stdout",
     "output_type": "stream",
     "text": [
      "Iteration: 4  Residue norm: 487.3753000166982\n"
     ]
    },
    {
     "name": "stdout",
     "output_type": "stream",
     "text": [
      "Iteration: 5  Residue norm: 118.7833238304581\n"
     ]
    },
    {
     "name": "stdout",
     "output_type": "stream",
     "text": [
      "Iteration: 6  Residue norm: 32.17804812794521\n"
     ]
    },
    {
     "name": "stdout",
     "output_type": "stream",
     "text": [
      "Iteration: 8  Residue norm: 92.45824056924926\n"
     ]
    },
    {
     "name": "stdout",
     "output_type": "stream",
     "text": [
      "Iteration: 10  Residue norm: 0.42407650415618026\n"
     ]
    },
    {
     "name": "stdout",
     "output_type": "stream",
     "text": [
      "Iteration: 12  Residue norm: 5.4434365681643726e-05\n"
     ]
    },
    {
     "name": "stdout",
     "output_type": "stream",
     "text": [
      "Iteration: 13  Residue norm: 3.0888092084069285e-10\n",
      "Target residue reached. Terminating.\n"
     ]
    },
    {
     "data": {
      "image/png": "[encoded data removed]",
      "text/plain": [
       "<Figure size 432x288 with 1 Axes>"
      ]
     },
     "metadata": {
      "needs_background": "light"
     },
     "output_type": "display_data"
    },
    {
     "name": "stdout",
     "output_type": "stream",
     "text": [
      "Error: 9.893138319005956e-06\n"
     ]
    }
   ],
   "source": [
    "Q = np.array([[2, 1], [1, 2]])\n",
    "Q_inv = np.array([[2, -1], [-1, 2]]) / 3\n",
    "\n",
    "assert np.allclose(Q @ Q_inv, np.eye(2))\n",
    "\n",
    "\n",
    "def Exact(x):\n",
    "    return lp.dot_VAV(x, np.multiply.outer(Q, np.ones(x.shape[1:])), x) / 2\n",
    "\n",
    "\n",
    "def A(x, r, p):\n",
    "    return -(\n",
    "        r / 3 + lp.dot_VAV(p, np.multiply.outer(Q_inv, np.ones(x.shape[1:])), p) / 3\n",
    "    ) * np.multiply.outer(Q, np.ones(x.shape[1:]))\n",
    "\n",
    "\n",
    "def B(x, r, p):\n",
    "    return (\n",
    "        3\n",
    "        * (\n",
    "            1\n",
    "            + 2 * r / 3\n",
    "            + lp.dot_VAV(p, np.multiply.outer(Q_inv, np.ones(x.shape[1:])), p) / 6\n",
    "        )\n",
    "        ** 2\n",
    "    )\n",
    "\n",
    "\n",
    "bc = Domain.Dirichlet(Domain.Ball(), Exact, x)\n",
    "\n",
    "u = newton_root(SchemeDirichlet, np.zeros(x.shape[1:]), (A, B, bc, superbases))\n",
    "\n",
    "plt.contourf(*x, u)\n",
    "plt.show()\n",
    "\n",
    "err = np.where(bc.interior, u - Exact(x), 0)\n",
    "print(\"Error:\", np.max(np.abs(err)))"
   ]
  },
  {
   "cell_type": "markdown",
   "metadata": {
    "cell_marker": "\"\"\""
   },
   "source": [
    "### 2.2. Other domains"
   ]
  },
  {
   "cell_type": "code",
   "execution_count": 8,
   "metadata": {},
   "outputs": [
    {
     "name": "stdout",
     "output_type": "stream",
     "text": [
      "Iteration: 1  Residue norm: 3.791943963628798\n"
     ]
    },
    {
     "name": "stdout",
     "output_type": "stream",
     "text": [
      "Iteration: 2  Residue norm: 1.1243754556408612\n"
     ]
    },
    {
     "name": "stdout",
     "output_type": "stream",
     "text": [
      "Iteration: 3  Residue norm: 0.14073444491339732\n"
     ]
    },
    {
     "name": "stdout",
     "output_type": "stream",
     "text": [
      "Iteration: 4  Residue norm: 0.04313700837978385\n"
     ]
    },
    {
     "name": "stdout",
     "output_type": "stream",
     "text": [
      "Iteration: 5  Residue norm: 0.00420841762238755\n"
     ]
    },
    {
     "name": "stdout",
     "output_type": "stream",
     "text": [
      "Iteration: 6  Residue norm: 6.915842973143072e-05\n"
     ]
    },
    {
     "name": "stdout",
     "output_type": "stream",
     "text": [
      "Iteration: 8  Residue norm: 5.895284260759581e-13\n",
      "Target residue reached. Terminating.\n"
     ]
    },
    {
     "data": {
      "image/png": "[encoded data removed]",
      "text/plain": [
       "<Figure size 432x288 with 1 Axes>"
      ]
     },
     "metadata": {
      "needs_background": "light"
     },
     "output_type": "display_data"
    }
   ],
   "source": [
    "def A(x, r, p):\n",
    "    return np.zeros((2, 2) + x.shape[1:])\n",
    "\n",
    "\n",
    "def B(x, r, p):\n",
    "    return np.ones(x.shape[1:])\n",
    "\n",
    "\n",
    "bc = Domain.Dirichlet(Domain.Union(Domain.Ball(), Domain.Box()), 0.0, x)\n",
    "\n",
    "u = newton_root(SchemeDirichlet, np.zeros(x.shape[1:]), (A, B, bc, superbases))\n",
    "\n",
    "plt.contourf(*x, u)\n",
    "plt.show()"
   ]
  },
  {
   "cell_type": "code",
   "execution_count": 9,
   "metadata": {
    "lines_to_next_cell": 2
   },
   "outputs": [
    {
     "name": "stdout",
     "output_type": "stream",
     "text": [
      "Iteration: 1  Residue norm: 42.75527340343402\n"
     ]
    },
    {
     "name": "stdout",
     "output_type": "stream",
     "text": [
      "Iteration: 2  Residue norm: 147.8676508983342\n"
     ]
    },
    {
     "name": "stdout",
     "output_type": "stream",
     "text": [
      "Iteration: 3  Residue norm: 103.55434260303394\n"
     ]
    },
    {
     "name": "stdout",
     "output_type": "stream",
     "text": [
      "Iteration: 4  Residue norm: 17.479988009476486\n"
     ]
    },
    {
     "name": "stdout",
     "output_type": "stream",
     "text": [
      "Iteration: 5  Residue norm: 0.6784819067407497\n"
     ]
    },
    {
     "name": "stdout",
     "output_type": "stream",
     "text": [
      "Iteration: 6  Residue norm: 5.98286705703884\n"
     ]
    },
    {
     "name": "stdout",
     "output_type": "stream",
     "text": [
      "Iteration: 8  Residue norm: 0.4037764796193133\n"
     ]
    },
    {
     "name": "stdout",
     "output_type": "stream",
     "text": [
      "Iteration: 10  Residue norm: 0.06553648664526313\n"
     ]
    },
    {
     "name": "stdout",
     "output_type": "stream",
     "text": [
      "Iteration: 12  Residue norm: 0.00042153997258154163\n"
     ]
    },
    {
     "name": "stdout",
     "output_type": "stream",
     "text": [
      "Iteration: 14  Residue norm: 9.101608355877033e-13\n",
      "Target residue reached. Terminating.\n"
     ]
    },
    {
     "data": {
      "image/png": "[encoded data removed]",
      "text/plain": [
       "<Figure size 432x288 with 1 Axes>"
      ]
     },
     "metadata": {
      "needs_background": "light"
     },
     "output_type": "display_data"
    }
   ],
   "source": [
    "def A(x, r, p):\n",
    "    return np.zeros((2, 2) + x.shape[1:])\n",
    "\n",
    "\n",
    "def B(x, r, p):\n",
    "    return np.ones(x.shape[1:])\n",
    "\n",
    "\n",
    "bc = Domain.Dirichlet(Domain.Complement(Domain.Ball(), Domain.Box()), 0.0, x)\n",
    "\n",
    "u = newton_root(SchemeDirichlet, np.zeros(x.shape[1:]), (A, B, bc, superbases))\n",
    "\n",
    "plt.contourf(*x, u)\n",
    "plt.show()"
   ]
  },
  {
   "cell_type": "markdown",
   "metadata": {
    "cell_marker": "\"\"\""
   },
   "source": [
    "## 3. Optimal transport boundary conditions"
   ]
  },
  {
   "cell_type": "code",
   "execution_count": 10,
   "metadata": {},
   "outputs": [],
   "source": [
    "class BV2(Domain.Dirichlet):\n",
    "    def __init__(self, domain, grid):\n",
    "        super().__init__(domain, np.inf, grid)\n",
    "\n",
    "    def DiffUpwind(self, u, offsets, reth=False):\n",
    "        du = super().DiffUpwind(u, offsets)\n",
    "\n",
    "        du = np.where(du == np.inf, np.sqrt(lp.dot_VV(offsets, offsets)), du)\n",
    "\n",
    "        if reth:\n",
    "            return du, self.gridscale\n",
    "        else:\n",
    "            return du\n",
    "\n",
    "    def DiffCentered(self, u, offsets):\n",
    "        du0 = super().DiffUpwind(u, offsets)\n",
    "        du1 = super().DiffUpwind(u, -np.asarray(offsets))\n",
    "\n",
    "        # TODO\n",
    "        assert np.sum(np.logical_and(du0 == np.inf, du1 == np.inf)) == 0\n",
    "\n",
    "        du0 = np.where(du0 == np.inf, -du1, du0)\n",
    "        du1 = np.where(du1 == np.inf, -du0, du1)\n",
    "\n",
    "        return (du0 - du1) / 2"
   ]
  },
  {
   "cell_type": "code",
   "execution_count": 11,
   "metadata": {},
   "outputs": [],
   "source": [
    "def SchemeBV2(u, A, B, bc, superbases):\n",
    "    return np.where(\n",
    "        bc.interior,\n",
    "        MA(u, A, B, bc, superbases) + u.flatten()[np.argmin(bc.domain.level(bc.grid))],\n",
    "        u - bc.grid_values,\n",
    "    )"
   ]
  },
  {
   "cell_type": "markdown",
   "metadata": {
    "cell_marker": "\"\"\""
   },
   "source": [
    "### 3.1. Comparison with the exact solution"
   ]
  },
  {
   "cell_type": "code",
   "execution_count": 12,
   "metadata": {},
   "outputs": [
    {
     "name": "stdout",
     "output_type": "stream",
     "text": [
      "Iteration: 1  Residue norm: 2069.1625072448423\n"
     ]
    },
    {
     "name": "stdout",
     "output_type": "stream",
     "text": [
      "Iteration: 2  Residue norm: 109.17028894899991\n"
     ]
    },
    {
     "name": "stdout",
     "output_type": "stream",
     "text": [
      "Iteration: 3  Residue norm: 37.0876350390643\n"
     ]
    },
    {
     "name": "stdout",
     "output_type": "stream",
     "text": [
      "Iteration: 4  Residue norm: 9.488205730153211\n"
     ]
    },
    {
     "name": "stdout",
     "output_type": "stream",
     "text": [
      "Iteration: 5  Residue norm: 3.1017757422972045\n"
     ]
    },
    {
     "name": "stdout",
     "output_type": "stream",
     "text": [
      "Iteration: 6  Residue norm: 0.5158981153493198\n"
     ]
    },
    {
     "name": "stdout",
     "output_type": "stream",
     "text": [
      "Iteration: 8  Residue norm: 0.00010778023492865468\n"
     ]
    },
    {
     "name": "stdout",
     "output_type": "stream",
     "text": [
      "Iteration: 9  Residue norm: 8.353138049310704e-09\n",
      "Target residue reached. Terminating.\n"
     ]
    },
    {
     "data": {
      "image/png": "[encoded data removed]",
      "text/plain": [
       "<Figure size 432x288 with 1 Axes>"
      ]
     },
     "metadata": {
      "needs_background": "light"
     },
     "output_type": "display_data"
    },
    {
     "name": "stdout",
     "output_type": "stream",
     "text": [
      "Error: 0.0692501375889793\n"
     ]
    }
   ],
   "source": [
    "def Exact(x):\n",
    "    return (lp.dot_VV(x, x) + lp.dot_VV(x, x) ** 2) / 6\n",
    "\n",
    "\n",
    "def A(x, r, p):\n",
    "    return np.zeros((2, 2) + x.shape[1:])\n",
    "\n",
    "\n",
    "def B(x, r, p):\n",
    "    return (4 + 32 * lp.dot_VV(x, x) + 48 * lp.dot_VV(x, x) ** 2) / 36\n",
    "\n",
    "\n",
    "bc = BV2(Domain.Ball(), x)\n",
    "\n",
    "u = newton_root(SchemeBV2, np.zeros(x.shape[1:]), (A, B, bc, superbases))\n",
    "\n",
    "plt.contourf(*x, u)\n",
    "plt.show()\n",
    "\n",
    "err = np.where(bc.interior, u - Exact(x), 0)\n",
    "print(\"Error:\", np.max(np.abs(err)))"
   ]
  },
  {
   "cell_type": "code",
   "execution_count": 13,
   "metadata": {
    "lines_to_next_cell": 2
   },
   "outputs": [
    {
     "name": "stdout",
     "output_type": "stream",
     "text": [
      "Iteration: 1  Residue norm: 21.883080129849578\n"
     ]
    },
    {
     "name": "stdout",
     "output_type": "stream",
     "text": [
      "Iteration: 2  Residue norm: 2.0376171082699273\n"
     ]
    },
    {
     "name": "stdout",
     "output_type": "stream",
     "text": [
      "Iteration: 3  Residue norm: 1.3040322188231606\n"
     ]
    },
    {
     "name": "stdout",
     "output_type": "stream",
     "text": [
      "Iteration: 4  Residue norm: 0.1580956345189312\n"
     ]
    },
    {
     "name": "stdout",
     "output_type": "stream",
     "text": [
      "Iteration: 5  Residue norm: 0.0019236615455444535\n"
     ]
    },
    {
     "name": "stdout",
     "output_type": "stream",
     "text": [
      "Iteration: 6  Residue norm: 2.231450543545288e-07\n"
     ]
    },
    {
     "name": "stdout",
     "output_type": "stream",
     "text": [
      "Iteration: 7  Residue norm: 5.472913788828748e-13\n",
      "Target residue reached. Terminating.\n"
     ]
    },
    {
     "data": {
      "image/png": "[encoded data removed]",
      "text/plain": [
       "<Figure size 432x288 with 1 Axes>"
      ]
     },
     "metadata": {
      "needs_background": "light"
     },
     "output_type": "display_data"
    },
    {
     "name": "stdout",
     "output_type": "stream",
     "text": [
      "Error: 0.048291854590035155\n"
     ]
    }
   ],
   "source": [
    "def Exact(x):\n",
    "    return lp.dot_VV(x, x) / 2\n",
    "\n",
    "\n",
    "def A(x, r, p):\n",
    "    return -(r / 3 + lp.dot_VV(p, p) / 3) * lp.identity(x.shape[1:])\n",
    "\n",
    "\n",
    "def B(x, r, p):\n",
    "    return (1 + 2 * r / 3 + lp.dot_VV(p, p) / 6) ** 2\n",
    "\n",
    "\n",
    "bc = BV2(Domain.Ball(), x)\n",
    "\n",
    "# TODO: initial guess\n",
    "u = newton_root(SchemeBV2, lp.dot_VV(x, x), (A, B, bc, superbases))\n",
    "\n",
    "plt.contourf(*x, u)\n",
    "plt.show()\n",
    "\n",
    "err = np.where(bc.interior, u - Exact(x), 0)\n",
    "print(\"Error:\", np.max(np.abs(err)))"
   ]
  },
  {
   "cell_type": "code",
   "execution_count": null,
   "metadata": {},
   "outputs": [],
   "source": []
  }
 ],
 "metadata": {
  "jupytext": {
   "cell_metadata_filter": "-all"
  },
  "kernelspec": {
   "display_name": "Python 3.8.2 64-bit ('notebooks': venv)",
   "language": "python",
   "name": "python38264bitnotebooksvenv3afef271546c48f59701ae69211ecab7"
  },
  "language_info": {
   "codemirror_mode": {
    "name": "ipython",
    "version": 3
   },
   "file_extension": ".py",
   "mimetype": "text/x-python",
   "name": "python",
   "nbconvert_exporter": "python",
   "pygments_lexer": "ipython3",
   "version": "3.8.2"
  }
 },
 "nbformat": 4,
 "nbformat_minor": 4
}
