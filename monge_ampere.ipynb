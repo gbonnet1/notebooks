{
 "cells": [
  {
   "cell_type": "markdown",
   "metadata": {
    "cell_marker": "\"\"\"",
    "lines_to_next_cell": 2
   },
   "source": [
    "# Monge-Ampère equations"
   ]
  },
  {
   "cell_type": "code",
   "execution_count": 1,
   "metadata": {},
   "outputs": [],
   "source": [
    "import agd.LinearParallel as lp\n",
    "import matplotlib.pyplot as plt\n",
    "import numpy as np\n",
    "from agd import Domain, Selling\n",
    "from agd.AutomaticDifferentiation.Optimization import newton_root"
   ]
  },
  {
   "cell_type": "markdown",
   "metadata": {
    "cell_marker": "\"\"\"",
    "lines_to_next_cell": 2
   },
   "source": [
    "In this notebook, we aim to solve Monge-Ampère equations of the form\n",
    "\n",
    "$$ \\det (D^2 u(x) - A(x, u(x), D u(x))) = B(x, u(x), D u(x)) $$\n",
    "\n",
    "on an open domain $\\Omega \\subset \\mathbb{R}^2$, for some given functions $A \\colon \\mathbb{R}^2 \\times \\mathbb{R} \\times \\mathbb{R}^2 \\to \\mathcal{S}_2$ and $B \\colon \\mathbb{R}^2 \\times \\mathbb{R} \\times \\mathbb{R}^2 \\to \\mathbb{R}$. We reformulate the Monge-Ampère equation in the form\n",
    "\n",
    "$$ \\sup_{\\substack{\\mathcal{D} \\in \\mathcal{S}_2^+ \\\\ \\operatorname{Tr}(\\mathcal{D}) = 1}} 2 (\\det \\mathcal{D})^{1/2} B(x, u(x), D^2 u(x))^{1/2} - \\langle \\mathcal{D}, D^2 u(x) - A(x, u(x), D^2 u(x)) \\rangle = 0. $$\n",
    "\n",
    "This reformulation satisfies two properties:\n",
    "\n",
    "* It is *degenerate elliptic*, meaning that it may be written as\n",
    "\n",
    "  $$ F(x, u(x), D u(x), D^2 u(x)) = 0, $$\n",
    "\n",
    "  where the function $F \\colon \\mathbb{R}^2 \\times \\mathbb{R} \\times \\mathbb{R}^2 \\times \\mathcal{S}_2 \\to \\mathbb{R}$ is nonincreasing with respect to its last variable.\n",
    "\n",
    "* It selects *admissible* solutions, that is, solutions $u \\colon \\Omega \\to \\mathbb{R}$ such that\n",
    "\n",
    "  $$ D^2 u(x) - A(x, u(x), D u(x)) \\geq 0. $$"
   ]
  },
  {
   "cell_type": "markdown",
   "metadata": {
    "cell_marker": "\"\"\"",
    "lines_to_next_cell": 2
   },
   "source": [
    "## 1. The discretized equation"
   ]
  },
  {
   "cell_type": "markdown",
   "metadata": {
    "cell_marker": "\"\"\"",
    "lines_to_next_cell": 2
   },
   "source": [
    "We discretize the reformulated equation on a grid $\\mathcal{G}_h := \\Omega \\cap h \\mathbb{Z}^2$, for some discretization step $h > 0$."
   ]
  },
  {
   "cell_type": "code",
   "execution_count": 2,
   "metadata": {
    "lines_to_next_cell": 2
   },
   "outputs": [],
   "source": [
    "x = np.stack(np.meshgrid(*(2 * [np.linspace(-1, 1, 40)]), indexing=\"ij\"))"
   ]
  },
  {
   "cell_type": "markdown",
   "metadata": {
    "cell_marker": "\"\"\"",
    "lines_to_next_cell": 2
   },
   "source": [
    "The discretization of the equation is called *monotone* if the resulting numerical scheme may be written as\n",
    "\n",
    "$$ F^h(x, u^h(x), u^h) = 0, $$\n",
    "\n",
    "where $F^h \\colon \\mathcal{G}_h \\times \\mathbb{R} \\times \\mathbb{R}^{\\mathcal{G}_h} \\to \\mathbb{R}$ is a function that is nonincreasing with respect to its last argument. Monotonicity is a discrete counterpart to degenerate ellipticity and is sometimes required for the scheme to be convergent.\n",
    "\n",
    "Let $u \\colon \\Omega \\to \\mathbb{R}$ and $x \\in \\Omega$. We assume for now that $x$ is far from $\\partial \\Omega$. For any $e \\in \\mathbb{Z}^d$ such that $B_2(x, h |e|) \\in \\Omega$, we define\n",
    "\n",
    "\\begin{align*}\n",
    "\\delta_h^e u(x) &:= \\frac{u(x + h e) - u(x)}{h}, &\n",
    "\\Delta_h^e u(x) &:= \\frac{u(x + h e) + u(x - h e) - 2 u(x)}{h^2}.\n",
    "\\end{align*}\n",
    "\n",
    "if $u \\in C^4(\\Omega)$, then\n",
    "\n",
    "\\begin{align*}\n",
    "\\delta_h^e u(x) &= \\langle e, D u(x) \\rangle + O(h), &\n",
    "\\Delta_h^e u(x) &= \\langle e, D^2 u(x) e \\rangle + O(h^2).\n",
    "\\end{align*}\n",
    "\n",
    "We build a monotone finite difference scheme using the notion of superbase of $\\mathbb{Z}^2$. A basis of $\\mathbb{Z}^2$ is a pair of $v = (v_1, v_2)$ of vectors of $\\mathbb{Z}^2$ such that $\\det(v_1, v_2) = \\pm 1$. A superbase of $\\mathbb{Z}^2$ is a triplet $v = (v_1, v_2, v_3)$ of vectors of $\\mathbb{Z}^2$ such that $(v_1, v_2)$ is a basis of $\\mathbb{Z}^2$ and $v_3 = -v_1 - v_2$. Note that the definition is symmetric: $(v_1, v_3)$ and $(v_2, v_3)$ are also bases of $\\mathbb{Z}^2$.\n",
    "\n",
    "Let $\\mathcal{D} \\in \\mathcal{S}_2$. If $v$ is a superbase of $\\mathbb{Z}^2$, then we have Selling's formula:\n",
    "\n",
    "$$ \\mathcal{D} = -\\sum_{1 \\leq i \\leq 3} \\langle v_{i+1}, \\mathcal{D} v_{i+2} \\rangle v_i^\\perp (v_i^\\perp)^\\top, $$\n",
    "\n",
    "where indices are taken modulo three. The superbase $v$ is called *$\\mathcal{D}$-obtuse* if $\\langle v_i, \\mathcal{D} v_j \\rangle \\leq 0$ for any $1 \\leq i < j \\leq 3$. If $v$ is $\\mathcal{D}$-obtuse, we define the finite difference operator\n",
    "\n",
    "$$ \\Delta_h^{\\mathcal{D}} u(x) := -\\sum_{1 \\leq i \\leq 3} \\langle v_{i+1}, \\mathcal{D} v_{i+2} \\rangle \\Delta_h^{v_i^\\perp} u(x). $$\n",
    "\n",
    "By Selling's formula, if $u \\in C^4(\\Omega)$, then\n",
    "\n",
    "$$ \\Delta_h^{\\mathcal{D}} u(x) = \\langle \\mathcal{D}, D^2 u(x) \\rangle + O(h^2). $$\n",
    "\n",
    "The $\\mathcal{D}$-obtuseness of $v$ is required so that the operator $\\Delta_h^{\\mathcal{D}}$ may be used to build a monotone scheme. For any superbase $v$ of $\\mathbb{Z}^2$, we define the set $\\mathcal{S}_2^v \\subset \\mathcal{S}_d^+$ of matrices $\\mathcal{D} \\in \\mathcal{S}_d^+$ such that $v$ is $\\mathcal{D}$-obtuse. For any $\\mu \\geq 1$, Selling's algorithm maybe used to compute a set $V$ of superbases of $\\mathbb{Z}^2$ such that $\\cup_{v \\in V} \\mathcal{S}_2^v$ contains all matrices $\\mathcal{D} \\in \\mathcal{S}_2^{++}$ whose condition number is less than or equal to $\\mu$."
   ]
  },
  {
   "cell_type": "code",
   "execution_count": 3,
   "metadata": {},
   "outputs": [],
   "source": [
    "superbases = np.multiply.outer(\n",
    "    Selling.SuperbasesForConditioning(15), np.ones(x.shape[1:], dtype=np.int64)\n",
    ")"
   ]
  },
  {
   "cell_type": "code",
   "execution_count": 4,
   "metadata": {},
   "outputs": [],
   "source": [
    "def MA(A, B, d2u, superbases):\n",
    "    delta = d2u - lp.dot_VAV(\n",
    "        lp.perp(superbases), A[:, :, np.newaxis, np.newaxis], lp.perp(superbases)\n",
    "    )\n",
    "\n",
    "    residue = -np.inf\n",
    "\n",
    "    W = (\n",
    "        -np.stack(\n",
    "            [\n",
    "                np.roll(superbases[0], 1, axis=0) * np.roll(superbases[0], 2, axis=0)\n",
    "                - np.roll(superbases[1], 1, axis=0) * np.roll(superbases[1], 2, axis=0),\n",
    "                np.roll(superbases[0], 1, axis=0) * np.roll(superbases[1], 2, axis=0)\n",
    "                + np.roll(superbases[1], 1, axis=0) * np.roll(superbases[0], 2, axis=0),\n",
    "            ]\n",
    "        )\n",
    "        / 2\n",
    "    )\n",
    "    w = -lp.dot_VV(np.roll(superbases, 1, axis=1), np.roll(superbases, 2, axis=1)) / 2\n",
    "\n",
    "    q = lp.dot_AV(W, delta)\n",
    "    r = np.sqrt(B + lp.dot_VV(q, q))\n",
    "\n",
    "    residue = np.maximum(\n",
    "        residue,\n",
    "        np.max(\n",
    "            np.where(\n",
    "                np.all(lp.dot_VA(q, W) <= r * w, axis=0),\n",
    "                r - lp.dot_VV(w, delta),\n",
    "                -np.inf,\n",
    "            ),\n",
    "            axis=0,\n",
    "        ),\n",
    "    )\n",
    "\n",
    "    bases = np.concatenate(\n",
    "        [superbases[:, [0, 1]], superbases[:, [0, 2]], superbases[:, [1, 2]]], axis=2\n",
    "    )\n",
    "    delta_bases = np.concatenate([delta[[0, 1]], delta[[0, 2]], delta[[1, 2]]], axis=1)\n",
    "\n",
    "    residue = np.maximum(\n",
    "        residue,\n",
    "        np.max(\n",
    "            np.sqrt(\n",
    "                B\n",
    "                * lp.det(bases) ** 2\n",
    "                / (\n",
    "                    lp.dot_VV(bases[:, 0], bases[:, 0])\n",
    "                    * lp.dot_VV(bases[:, 1], bases[:, 1])\n",
    "                )\n",
    "                + (\n",
    "                    delta_bases[0] / lp.dot_VV(bases[:, 0], bases[:, 0])\n",
    "                    - delta_bases[1] / lp.dot_VV(bases[:, 1], bases[:, 1])\n",
    "                )\n",
    "                ** 2\n",
    "                / 4\n",
    "            )\n",
    "            - (\n",
    "                delta_bases[0] / lp.dot_VV(bases[:, 0], bases[:, 0])\n",
    "                + delta_bases[1] / lp.dot_VV(bases[:, 1], bases[:, 1])\n",
    "            )\n",
    "            / 2,\n",
    "            axis=0,\n",
    "        ),\n",
    "    )\n",
    "\n",
    "    return residue"
   ]
  },
  {
   "cell_type": "markdown",
   "metadata": {
    "cell_marker": "\"\"\""
   },
   "source": [
    "## 2. Dirichlet boundary conditions"
   ]
  },
  {
   "cell_type": "code",
   "execution_count": 5,
   "metadata": {},
   "outputs": [],
   "source": [
    "def SchemeDirichlet(u, x, domain, A, B, g, superbases):\n",
    "    bc = Domain.Dirichlet(domain, g, x)\n",
    "\n",
    "    du = bc.DiffCentered(u, [[1, 0], [0, 1]])\n",
    "    d2u = bc.Diff2(u, lp.perp(superbases))\n",
    "\n",
    "    return np.where(\n",
    "        bc.interior, MA(A(x, u, du), B(x, u, du), d2u, superbases), u - bc.grid_values\n",
    "    )"
   ]
  },
  {
   "cell_type": "code",
   "execution_count": 6,
   "metadata": {
    "lines_to_next_cell": 2
   },
   "outputs": [
    {
     "name": "stderr",
     "output_type": "stream",
     "text": [
      "/Users/guillaume/.pyenv/versions/3.8.2/envs/notebooks/lib/python3.8/site-packages/agd/AutomaticDifferentiation/Base.py:156: RuntimeWarning: invalid value encountered in less_equal\n",
      "  return self.value.__array_ufunc__(ufunc,method,*inputs_,**kwargs)\n",
      "/Users/guillaume/.pyenv/versions/3.8.2/envs/notebooks/lib/python3.8/site-packages/agd/AutomaticDifferentiation/Base.py:156: RuntimeWarning: invalid value encountered in greater\n",
      "  return self.value.__array_ufunc__(ufunc,method,*inputs_,**kwargs)\n",
      "/Users/guillaume/.pyenv/versions/3.8.2/envs/notebooks/lib/python3.8/site-packages/agd/AutomaticDifferentiation/Base.py:156: RuntimeWarning: invalid value encountered in less_equal\n",
      "  return self.value.__array_ufunc__(ufunc,method,*inputs_,**kwargs)\n",
      "/Users/guillaume/.pyenv/versions/3.8.2/envs/notebooks/lib/python3.8/site-packages/agd/AutomaticDifferentiation/Base.py:156: RuntimeWarning: invalid value encountered in greater\n",
      "  return self.value.__array_ufunc__(ufunc,method,*inputs_,**kwargs)\n"
     ]
    },
    {
     "name": "stdout",
     "output_type": "stream",
     "text": [
      "Iteration: 1  Residue norm: 2.7388570329352846\n",
      "Iteration: 2  Residue norm: 0.611446117718927\n",
      "Iteration: 3  Residue norm: 0.09360672672232184\n",
      "Iteration: 4  Residue norm: 0.015388084032600169\n",
      "Iteration: 5  Residue norm: 0.0007312999203952231\n",
      "Iteration: 6  Residue norm: 1.6002221379096682e-06\n",
      "Iteration: 7  Residue norm: 7.717382288774388e-12\n",
      "Target residue reached. Terminating.\n"
     ]
    },
    {
     "data": {
      "image/png": "[encoded data removed]",
      "text/plain": [
       "<Figure size 432x288 with 1 Axes>"
      ]
     },
     "metadata": {
      "needs_background": "light"
     },
     "output_type": "display_data"
    }
   ],
   "source": [
    "domain = Domain.Box([[-1, 1], [-1, 1]])\n",
    "\n",
    "\n",
    "def A(x, r, p):\n",
    "    return np.zeros((2, 2) + x.shape[1:])\n",
    "\n",
    "\n",
    "def B(x, r, p):\n",
    "    return np.ones(x.shape[1:])\n",
    "\n",
    "\n",
    "u = newton_root(\n",
    "    SchemeDirichlet, np.zeros(x.shape[1:]), (x, domain, A, B, 0.0, superbases)\n",
    ")\n",
    "u = np.where(domain.level(x) < 0, u, np.nan)\n",
    "\n",
    "plt.contourf(*x, u)\n",
    "plt.show()"
   ]
  },
  {
   "cell_type": "markdown",
   "metadata": {
    "cell_marker": "\"\"\"",
    "lines_to_next_cell": 2
   },
   "source": [
    "### 2.1. Comparison with the exact solution"
   ]
  },
  {
   "cell_type": "code",
   "execution_count": 7,
   "metadata": {
    "lines_to_next_cell": 2
   },
   "outputs": [
    {
     "name": "stdout",
     "output_type": "stream",
     "text": [
      "Iteration: 1  Residue norm: 26.664999114564054\n",
      "Iteration: 2  Residue norm: 1.7455732287901342\n",
      "Iteration: 3  Residue norm: 0.3172559796037788\n",
      "Iteration: 4  Residue norm: 0.035894428741214846\n",
      "Iteration: 5  Residue norm: 0.0005999983182694013\n",
      "Iteration: 6  Residue norm: 1.5573429590354237e-07\n",
      "Iteration: 7  Residue norm: 4.1522341120980855e-14\n",
      "Target residue reached. Terminating.\n"
     ]
    },
    {
     "data": {
      "image/png": "[encoded data removed]",
      "text/plain": [
       "<Figure size 432x288 with 1 Axes>"
      ]
     },
     "metadata": {
      "needs_background": "light"
     },
     "output_type": "display_data"
    },
    {
     "name": "stdout",
     "output_type": "stream",
     "text": [
      "Error: 0.00048204071602981\n"
     ]
    }
   ],
   "source": [
    "domain = Domain.Ball()\n",
    "\n",
    "\n",
    "def A(x, r, p):\n",
    "    return np.zeros((2, 2) + x.shape[1:])\n",
    "\n",
    "\n",
    "def B(x, r, p):\n",
    "    return (4 + 32 * lp.dot_VV(x, x) + 48 * lp.dot_VV(x, x) ** 2) / 36\n",
    "\n",
    "\n",
    "def Exact(x):\n",
    "    return (lp.dot_VV(x, x) + lp.dot_VV(x, x) ** 2) / 6\n",
    "\n",
    "\n",
    "u = newton_root(\n",
    "    SchemeDirichlet, np.zeros(x.shape[1:]), (x, domain, A, B, 1 / 3, superbases)\n",
    ")\n",
    "u = np.where(domain.level(x) < 0, u, np.nan)\n",
    "\n",
    "plt.contourf(*x, u)\n",
    "plt.show()\n",
    "\n",
    "err = np.where(domain.level(x) < 0, u - Exact(x), 0)\n",
    "print(\"Error:\", np.max(np.abs(err)))"
   ]
  },
  {
   "cell_type": "code",
   "execution_count": 8,
   "metadata": {
    "lines_to_next_cell": 2
   },
   "outputs": [
    {
     "name": "stdout",
     "output_type": "stream",
     "text": [
      "Iteration: 1  Residue norm: 9625.137761790102\n",
      "Iteration: 2  Residue norm: 2263.311219931077\n",
      "Iteration: 3  Residue norm: 531.9753690686\n",
      "Iteration: 4  Residue norm: 126.35232538086979\n",
      "Iteration: 5  Residue norm: 30.42085372119842\n",
      "Iteration: 6  Residue norm: 19.95853128333652\n",
      "Iteration: 8  Residue norm: 1.584085251474983\n",
      "Iteration: 10  Residue norm: 0.00316069557955867\n",
      "Iteration: 12  Residue norm: 5.964118088286341e-13\n",
      "Target residue reached. Terminating.\n"
     ]
    },
    {
     "data": {
      "image/png": "[encoded data removed]",
      "text/plain": [
       "<Figure size 432x288 with 1 Axes>"
      ]
     },
     "metadata": {
      "needs_background": "light"
     },
     "output_type": "display_data"
    },
    {
     "name": "stdout",
     "output_type": "stream",
     "text": [
      "Error: 0.00010785001916613357\n"
     ]
    }
   ],
   "source": [
    "Q = np.array([[2, 1], [1, 2]])\n",
    "Q_inv = np.array([[2, -1], [-1, 2]]) / 3\n",
    "\n",
    "assert np.allclose(Q @ Q_inv, np.eye(2))\n",
    "\n",
    "domain = Domain.Ball()\n",
    "\n",
    "\n",
    "def A(x, r, p):\n",
    "    return -(\n",
    "        r / 3 + lp.dot_VAV(p, np.multiply.outer(Q_inv, np.ones(x.shape[1:])), p) / 3\n",
    "    ) * np.multiply.outer(Q, np.ones(x.shape[1:]))\n",
    "\n",
    "\n",
    "def B(x, r, p):\n",
    "    return (\n",
    "        3\n",
    "        * (\n",
    "            1\n",
    "            + 2 * r / 3\n",
    "            + lp.dot_VAV(p, np.multiply.outer(Q_inv, np.ones(x.shape[1:])), p) / 6\n",
    "        )\n",
    "        ** 2\n",
    "    )\n",
    "\n",
    "\n",
    "def Exact(x):\n",
    "    return lp.dot_VAV(x, np.multiply.outer(Q, np.ones(x.shape[1:])), x) / 2\n",
    "\n",
    "\n",
    "u = newton_root(\n",
    "    SchemeDirichlet, np.zeros(x.shape[1:]), (x, domain, A, B, Exact, superbases)\n",
    ")\n",
    "u = np.where(domain.level(x) < 0, u, np.nan)\n",
    "\n",
    "plt.contourf(*x, u)\n",
    "plt.show()\n",
    "\n",
    "err = np.where(domain.level(x) < 0, u - Exact(x), 0)\n",
    "print(\"Error:\", np.max(np.abs(err)))"
   ]
  },
  {
   "cell_type": "markdown",
   "metadata": {
    "cell_marker": "\"\"\"",
    "lines_to_next_cell": 2
   },
   "source": [
    "### 2.2. Other domains"
   ]
  },
  {
   "cell_type": "code",
   "execution_count": 9,
   "metadata": {
    "lines_to_next_cell": 2
   },
   "outputs": [
    {
     "name": "stdout",
     "output_type": "stream",
     "text": [
      "Iteration: 1  Residue norm: 2.640187658269959\n",
      "Iteration: 2  Residue norm: 0.5230591190860103\n",
      "Iteration: 3  Residue norm: 0.07806838515485937\n",
      "Iteration: 4  Residue norm: 0.007314432759750633\n",
      "Iteration: 5  Residue norm: 6.487499425533727e-05\n",
      "Iteration: 6  Residue norm: 4.362709749017313e-09\n",
      "Target residue reached. Terminating.\n"
     ]
    },
    {
     "data": {
      "image/png": "[encoded data removed]",
      "text/plain": [
       "<Figure size 432x288 with 1 Axes>"
      ]
     },
     "metadata": {
      "needs_background": "light"
     },
     "output_type": "display_data"
    }
   ],
   "source": [
    "domain = Domain.Union(Domain.Ball(), Domain.Box())\n",
    "\n",
    "\n",
    "def A(x, r, p):\n",
    "    return np.zeros((2, 2) + x.shape[1:])\n",
    "\n",
    "\n",
    "def B(x, r, p):\n",
    "    return np.ones(x.shape[1:])\n",
    "\n",
    "\n",
    "u = newton_root(\n",
    "    SchemeDirichlet, np.zeros(x.shape[1:]), (x, domain, A, B, 0.0, superbases)\n",
    ")\n",
    "u = np.where(domain.level(x) < 0, u, np.nan)\n",
    "\n",
    "plt.contourf(*x, u)\n",
    "plt.show()"
   ]
  },
  {
   "cell_type": "code",
   "execution_count": 10,
   "metadata": {
    "lines_to_next_cell": 2
   },
   "outputs": [
    {
     "name": "stdout",
     "output_type": "stream",
     "text": [
      "Iteration: 1  Residue norm: 12.193207332451788\n",
      "Iteration: 2  Residue norm: 29.258895397770928\n",
      "Iteration: 3  Residue norm: 2.8452092795952977\n",
      "Iteration: 4  Residue norm: 0.736192544103508\n",
      "Iteration: 5  Residue norm: 0.10242732667673288\n",
      "Iteration: 6  Residue norm: 0.009408548146049966\n",
      "Iteration: 8  Residue norm: 1.6465135921350793e-09\n",
      "Target residue reached. Terminating.\n"
     ]
    },
    {
     "data": {
      "image/png": "[encoded data removed]",
      "text/plain": [
       "<Figure size 432x288 with 1 Axes>"
      ]
     },
     "metadata": {
      "needs_background": "light"
     },
     "output_type": "display_data"
    }
   ],
   "source": [
    "domain = Domain.Complement(Domain.Ball(), Domain.Box())\n",
    "\n",
    "\n",
    "def A(x, r, p):\n",
    "    return np.zeros((2, 2) + x.shape[1:])\n",
    "\n",
    "\n",
    "def B(x, r, p):\n",
    "    return np.ones(x.shape[1:])\n",
    "\n",
    "\n",
    "u = newton_root(\n",
    "    SchemeDirichlet, np.zeros(x.shape[1:]), (x, domain, A, B, 0.0, superbases)\n",
    ")\n",
    "u = np.where(domain.level(x) < 0, u, np.nan)\n",
    "\n",
    "plt.contourf(*x, u)\n",
    "plt.show()"
   ]
  },
  {
   "cell_type": "markdown",
   "metadata": {
    "cell_marker": "\"\"\""
   },
   "source": [
    "## 3. Optimal transport boundary conditions"
   ]
  },
  {
   "cell_type": "code",
   "execution_count": 11,
   "metadata": {},
   "outputs": [],
   "source": [
    "def SchemeBV2(u, x, domain, A, B, C, sigma, superbases):\n",
    "    bc = Domain.Dirichlet(domain, np.inf, x)\n",
    "\n",
    "    du0 = bc.DiffUpwind(u, [[1, 0], [0, 1]])\n",
    "    du1 = bc.DiffUpwind(u, [[-1, 0], [0, -1]])\n",
    "    # TODO\n",
    "    assert np.sum(np.logical_and(du0 == np.inf, du1 == np.inf)) == 0\n",
    "    du0 = np.where(du0 == np.inf, -du1, du0)\n",
    "    du1 = np.where(du1 == np.inf, -du0, du1)\n",
    "    du = (du0 - du1) / 2\n",
    "\n",
    "    du0 = bc.DiffUpwind(u, lp.perp(superbases))\n",
    "    du0 = np.where(\n",
    "        du0 == np.inf,\n",
    "        sigma(\n",
    "            x[:, np.newaxis, np.newaxis],\n",
    "            u[np.newaxis, np.newaxis],\n",
    "            lp.perp(superbases),\n",
    "        ),\n",
    "        du0,\n",
    "    )\n",
    "    du1 = bc.DiffUpwind(u, -lp.perp(superbases))\n",
    "    du1 = np.where(\n",
    "        du1 == np.inf,\n",
    "        sigma(\n",
    "            x[:, np.newaxis, np.newaxis],\n",
    "            u[np.newaxis, np.newaxis],\n",
    "            -lp.perp(superbases),\n",
    "        ),\n",
    "        du1,\n",
    "    )\n",
    "    d2u = (du0 + du1) / bc.gridscale\n",
    "\n",
    "    return np.where(\n",
    "        bc.interior,\n",
    "        MA(A(x, u, du), B(x, u, du), d2u, superbases)\n",
    "        + u.flatten()[np.argmin(bc.domain.level(bc.grid))]\n",
    "        - C,\n",
    "        u - bc.grid_values,\n",
    "    )"
   ]
  },
  {
   "cell_type": "markdown",
   "metadata": {
    "cell_marker": "\"\"\"",
    "lines_to_next_cell": 2
   },
   "source": [
    "### 3.1. Comparison with the exact solution"
   ]
  },
  {
   "cell_type": "code",
   "execution_count": 12,
   "metadata": {
    "lines_to_next_cell": 2
   },
   "outputs": [
    {
     "name": "stdout",
     "output_type": "stream",
     "text": [
      "Iteration: 1  Residue norm: 22.705217356154673\n",
      "Iteration: 2  Residue norm: 8.092134857804169\n",
      "Iteration: 3  Residue norm: 3.0092568258001866\n",
      "Iteration: 4  Residue norm: 0.39717323724132636\n",
      "Iteration: 5  Residue norm: 0.029014136609500252\n",
      "Iteration: 6  Residue norm: 0.0001289236605915567\n",
      "Iteration: 7  Residue norm: 8.930873138246476e-09\n",
      "Target residue reached. Terminating.\n"
     ]
    },
    {
     "data": {
      "image/png": "[encoded data removed]",
      "text/plain": [
       "<Figure size 432x288 with 1 Axes>"
      ]
     },
     "metadata": {
      "needs_background": "light"
     },
     "output_type": "display_data"
    },
    {
     "name": "stdout",
     "output_type": "stream",
     "text": [
      "Error: 0.12671970652020442\n"
     ]
    }
   ],
   "source": [
    "domain = Domain.Ball()\n",
    "\n",
    "\n",
    "def A(x, r, p):\n",
    "    return np.zeros((2, 2) + x.shape[1:])\n",
    "\n",
    "\n",
    "def B(x, r, p):\n",
    "    return (4 + 32 * lp.dot_VV(x, x) + 48 * lp.dot_VV(x, x) ** 2) / 36\n",
    "\n",
    "\n",
    "def sigma(x, r, e):\n",
    "    return np.sqrt(lp.dot_VV(e, e))\n",
    "\n",
    "\n",
    "def Exact(x):\n",
    "    return (lp.dot_VV(x, x) + lp.dot_VV(x, x) ** 2) / 6\n",
    "\n",
    "\n",
    "u = newton_root(\n",
    "    SchemeBV2, np.zeros(x.shape[1:]), (x, domain, A, B, 0, sigma, superbases)\n",
    ")\n",
    "u = np.where(domain.level(x) < 0, u, np.nan)\n",
    "\n",
    "plt.contourf(*x, u)\n",
    "plt.show()\n",
    "\n",
    "err = np.where(domain.level(x) < 0, u - Exact(x), 0)\n",
    "print(\"Error:\", np.max(np.abs(err)))"
   ]
  },
  {
   "cell_type": "code",
   "execution_count": 13,
   "metadata": {
    "lines_to_next_cell": 2
   },
   "outputs": [
    {
     "name": "stdout",
     "output_type": "stream",
     "text": [
      "Iteration: 1  Residue norm: 4.633858134293152\n",
      "Iteration: 2  Residue norm: 1.2151113060796497\n",
      "Iteration: 3  Residue norm: 0.18458149658310813\n",
      "Iteration: 4  Residue norm: 0.002604076483077894\n",
      "Iteration: 5  Residue norm: 1.2334332582311647e-06\n",
      "Iteration: 6  Residue norm: 1.9916013282994527e-13\n",
      "Target residue reached. Terminating.\n"
     ]
    },
    {
     "data": {
      "image/png": "[encoded data removed]",
      "text/plain": [
       "<Figure size 432x288 with 1 Axes>"
      ]
     },
     "metadata": {
      "needs_background": "light"
     },
     "output_type": "display_data"
    },
    {
     "name": "stdout",
     "output_type": "stream",
     "text": [
      "Error: 0.08478397488781114\n"
     ]
    }
   ],
   "source": [
    "domain = Domain.Ball()\n",
    "\n",
    "\n",
    "def A(x, r, p):\n",
    "    return -(r / 3 + lp.dot_VV(p, p) / 3) * lp.identity(x.shape[1:])\n",
    "\n",
    "\n",
    "def B(x, r, p):\n",
    "    return (1 + 2 * r / 3 + lp.dot_VV(p, p) / 6) ** 2\n",
    "\n",
    "\n",
    "def sigma(x, r, e):\n",
    "    return np.sqrt(lp.dot_VV(e, e))\n",
    "\n",
    "\n",
    "def Exact(x):\n",
    "    return lp.dot_VV(x, x) / 2\n",
    "\n",
    "\n",
    "# TODO: initial guess\n",
    "u = newton_root(SchemeBV2, lp.dot_VV(x, x), (x, domain, A, B, 0, sigma, superbases))\n",
    "u = np.where(domain.level(x) < 0, u, np.nan)\n",
    "\n",
    "plt.contourf(*x, u)\n",
    "plt.show()\n",
    "\n",
    "err = np.where(domain.level(x) < 0, u - Exact(x), 0)\n",
    "print(\"Error:\", np.max(np.abs(err)))"
   ]
  },
  {
   "cell_type": "markdown",
   "metadata": {
    "cell_marker": "\"\"\"",
    "lines_to_next_cell": 2
   },
   "source": [
    "### 3.2. Near-field reflector design"
   ]
  },
  {
   "cell_type": "code",
   "execution_count": 14,
   "metadata": {
    "lines_to_next_cell": 2
   },
   "outputs": [
    {
     "name": "stderr",
     "output_type": "stream",
     "text": [
      "/Users/guillaume/.pyenv/versions/3.8.2/envs/notebooks/lib/python3.8/site-packages/agd/AutomaticDifferentiation/Sparse.py:100: RuntimeWarning: divide by zero encountered in true_divide\n",
      "  _concatenate(self.coef*_add_dim(1/other.value),other.coef*_add_dim(-self.value/other.value**2)),\n"
     ]
    },
    {
     "name": "stdout",
     "output_type": "stream",
     "text": [
      "Iteration: 1  Residue norm: 0.002434480501027181\n",
      "Iteration: 2  Residue norm: 0.00038286762471992364\n",
      "Iteration: 3  Residue norm: 8.075924081030195e-06\n",
      "Iteration: 4  Residue norm: 1.3749436006404991e-08\n",
      "Iteration: 5  Residue norm: 1.774969060619469e-14\n",
      "Target residue reached. Terminating.\n"
     ]
    },
    {
     "data": {
      "image/png": "[encoded data removed]",
      "text/plain": [
       "<Figure size 432x288 with 1 Axes>"
      ]
     },
     "metadata": {
      "needs_background": "light"
     },
     "output_type": "display_data"
    }
   ],
   "source": [
    "domain = Domain.Ball()\n",
    "\n",
    "\n",
    "def f(x):\n",
    "    return np.ones(x.shape[1:])\n",
    "\n",
    "\n",
    "def A(x, r, p):\n",
    "    tmp = 1 + np.sqrt(1 - lp.dot_VV(p, p) / r ** 4)\n",
    "    return (2 + tmp) / r * lp.outer(p, p) - r ** 3 * tmp * lp.identity(x.shape[1:])\n",
    "\n",
    "\n",
    "def B(x, r, p):\n",
    "    tmp = 1 + np.sqrt(1 - lp.dot_VV(p, p) / r ** 4)\n",
    "    return r ** 6 * (tmp ** 3 - tmp ** 2) * f(x)\n",
    "\n",
    "\n",
    "def sigma(x, r, e):\n",
    "    return 2 * r ** 3 * (np.sqrt(lp.dot_VV(e, e)) - lp.dot_VV(x, e))\n",
    "\n",
    "\n",
    "u = newton_root(\n",
    "    SchemeBV2, np.full(x.shape[1:], 0.1), (x, domain, A, B, 0.1, sigma, superbases),\n",
    ")\n",
    "u = np.where(domain.level(x) < 0, u, np.nan)\n",
    "\n",
    "plt.contourf(*x, u)\n",
    "plt.show()"
   ]
  },
  {
   "cell_type": "code",
   "execution_count": null,
   "metadata": {},
   "outputs": [],
   "source": []
  }
 ],
 "metadata": {
  "jupytext": {
   "cell_metadata_filter": "-all",
   "main_language": "python",
   "notebook_metadata_filter": "-all"
  },
  "language_info": {
   "codemirror_mode": {
    "name": "ipython",
    "version": 3
   },
   "file_extension": ".py",
   "mimetype": "text/x-python",
   "name": "python",
   "nbconvert_exporter": "python",
   "pygments_lexer": "ipython3",
   "version": "3.8.2"
  }
 },
 "nbformat": 4,
 "nbformat_minor": 4
}
