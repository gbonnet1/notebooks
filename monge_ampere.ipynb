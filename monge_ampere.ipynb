{
 "cells": [
  {
   "cell_type": "markdown",
   "metadata": {
    "cell_marker": "\"\"\"",
    "lines_to_next_cell": 2
   },
   "source": [
    "# Monge-Ampère equations"
   ]
  },
  {
   "cell_type": "code",
   "execution_count": 1,
   "metadata": {
    "lines_to_next_cell": 2
   },
   "outputs": [],
   "source": [
    "!python3 -c 'import agd' 2> /dev/null || pip install agd"
   ]
  },
  {
   "cell_type": "code",
   "execution_count": 2,
   "metadata": {},
   "outputs": [],
   "source": [
    "from dataclasses import dataclass\n",
    "\n",
    "import agd.FiniteDifferences as fd\n",
    "import agd.LinearParallel as lp\n",
    "import matplotlib.pyplot as plt\n",
    "import numpy as np\n",
    "from agd import Domain, Selling\n",
    "from agd.AutomaticDifferentiation.Optimization import newton_root\n",
    "from agd.AutomaticDifferentiation.Sparse import spAD\n",
    "\n",
    "from lib.reflector import simulate_reflector"
   ]
  },
  {
   "cell_type": "code",
   "execution_count": 3,
   "metadata": {},
   "outputs": [],
   "source": [
    "# TODO: alternative to this?\n",
    "def spad_sum(a):\n",
    "    if not isinstance(a, spAD):\n",
    "        return\n",
    "\n",
    "    index, inverse = np.unique(a.index, axis=-1, return_inverse=True)\n",
    "    coef = np.zeros(index.shape)\n",
    "\n",
    "    for i in range(index.shape[-1]):\n",
    "        coef[..., i] = np.sum(a.coef[..., inverse == i], axis=-1)\n",
    "\n",
    "    a.index = index\n",
    "    a.coef = coef"
   ]
  },
  {
   "cell_type": "markdown",
   "metadata": {
    "cell_marker": "\"\"\"",
    "lines_to_next_cell": 2
   },
   "source": [
    "In this notebook, we aim to solve Monge-Ampère equations of the form\n",
    "\\begin{equation}\n",
    "    \\det (D^2 u(x) - A(x, u(x), D u(x))) = B(x, u(x), D u(x))\n",
    "\\end{equation}\n",
    "on an open domain $\\Omega \\subset \\mathbb{R}^2$, where functions $A$ and $B$ take values in $\\mathcal{S}_2$ and $\\mathbb{R}_+$ respectively. We look for an *admissible* solution to the previous equation, that is, a solution $u \\colon \\overline \\Omega \\to \\mathbb{R}$ such that\n",
    "\\begin{equation}\n",
    "    D^2 u(x) - A(x, u(x), D u(x)) \\geq 0.\n",
    "\\end{equation}"
   ]
  },
  {
   "cell_type": "markdown",
   "metadata": {
    "cell_marker": "\"\"\"",
    "lines_to_next_cell": 2
   },
   "source": [
    "## 1. Reformulation of the equation"
   ]
  },
  {
   "cell_type": "markdown",
   "metadata": {
    "cell_marker": "\"\"\"",
    "lines_to_next_cell": 2
   },
   "source": [
    "Let $M \\in \\mathcal{S}_2^{++}$, $\\mathcal{D} \\in \\mathcal{S}_2^{++}$ be such that $\\det\\mathcal{D} = 1$, and $\\lambda_1$, $\\lambda_2 \\geq 0$ be the eigenvalues of the product $\\mathcal{D} M$. Then by the inequality of arithmetic and geometric means,\n",
    "\\begin{equation}\n",
    "    2 (\\det M)^{1/2}\n",
    "    = 2 (\\det (\\mathcal{D} M))^{1/2}\n",
    "    = 2 (\\lambda_1 \\lambda_2)^{1/2}\n",
    "    \\leq \\lambda_1 + \\lambda_2\n",
    "    = \\langle \\mathcal{D}, M \\rangle,\n",
    "\\end{equation}\n",
    "with equality when $\\mathcal{D} = (\\det M)^{1/2} M^{-1}$. Thus\n",
    "\\begin{equation}\n",
    "    2 (\\det M)^{1/2}\n",
    "    = \\inf_{\\substack{\\mathcal{D} \\in \\mathcal{S}_2^{++} \\\\ \\det \\mathcal{D} = 1}} \\langle \\mathcal{D}, M \\rangle\n",
    "    = \\inf_{\\substack{\\mathcal{D} \\in \\mathcal{S}_2^{++} \\\\ \\operatorname{Tr}(\\mathcal{D}) = 1}} (\\det \\mathcal{D})^{-1/2} \\langle \\mathcal{D}, M \\rangle,\n",
    "\\end{equation}\n",
    "and this equality extends to $M \\in \\mathcal{S}_2^+$. Therefore admissible solutions to the Monge-Ampère equation are also solution to\n",
    "\\begin{equation}\n",
    "    \\sup_{\\substack{\\mathcal{D} \\in \\mathcal{S}_2^{++} \\\\ \\operatorname{Tr}(\\mathcal{D}) = 1}} \\left(2 B(x, u(x), D u(x))^{1/2} - (\\det \\mathcal{D})^{-1/2} \\langle \\mathcal{D}, D^2 u(x) - A(x, u(x), D u(x)) \\rangle\\right) = 0.\n",
    "\\end{equation}\n",
    "Multiplying by $(\\det \\mathcal{D})^{1/2}$ inside the supremum yields the reformulation\n",
    "\\begin{equation}\n",
    "    \\max_{\\substack{\\mathcal{D} \\in \\mathcal{S}_2^+ \\\\ \\operatorname{Tr}(\\mathcal{D}) = 1}} \\left(2 (\\det \\mathcal{D})^{1/2} B(x, u(x), D u(x))^{1/2} - \\langle \\mathcal{D}, D^2 u(x) - A(x, u(x), D u(x)) \\rangle\\right) = 0.\n",
    "\\end{equation}\n",
    "We propose to discretize the last equation, which has the benefit that its solutions are always admissible for the Monge-Ampère equation."
   ]
  },
  {
   "cell_type": "markdown",
   "metadata": {
    "cell_marker": "\"\"\"",
    "lines_to_next_cell": 2
   },
   "source": [
    "## 2. Discretization"
   ]
  },
  {
   "cell_type": "markdown",
   "metadata": {
    "cell_marker": "\"\"\"",
    "lines_to_next_cell": 2
   },
   "source": [
    "We discretize the reformulated equation on a grid $\\mathcal{G}_h := \\Omega \\cap h \\mathbb{Z}^2$, for some discretization step $h > 0$.\n",
    "\n",
    "Let $u \\colon \\mathcal{G}_h \\to \\mathbb{R}$ and $x \\in \\mathcal{G}_h$. If it makes sense (we discuss handling of boundary conditions in later sections), we define\n",
    "\\begin{equation}\n",
    "    D_h u(x) := \\frac{1}{2 h} \\begin{pmatrix}\n",
    "        u(x + h e_1) - u(x - h e_1) \\\\\n",
    "        u(x + h e_2) - u(x - h e_2)\n",
    "    \\end{pmatrix},\n",
    "\\end{equation}\n",
    "where $(e_1, e_2)$ is the canoncial basis of $\\mathbb{R}^2$. We also define, for $e \\in \\mathbb{Z}^2$ and $A \\in \\mathcal{S}_2$,\n",
    "\\begin{equation}\n",
    "    \\Delta_h^e [u, A](x) := \\frac{u(x + h e) + u(x - h e) - 2 u(x)}{h^2} - \\langle e, A e \\rangle,\n",
    "\\end{equation}\n",
    "and for any family $v = (v_i)_{1 \\leq i \\leq m}$ of vectors of $\\mathbb{Z}^2$,\n",
    "\\begin{equation}\n",
    "    \\Delta_h^v [u, A](x) := (\\Delta_h^{v_i} [u, A](x))_{1 \\leq i \\leq m}.\n",
    "\\end{equation}\n",
    "For any such family $v$, we define $\\mathcal{S}^+(v) \\subset \\mathcal{S}_2^+$ as\n",
    "\\begin{equation}\n",
    "    \\mathcal{S}^+(v) := \\sum_{i=1}^m \\mathbb{R}_+ v_i v_i^\\top.\n",
    "\\end{equation}\n",
    "\n",
    "The *stencil* of the numerical scheme is described by three sets $V_1 \\subset \\mathbb{Z}^2$, $V_2 \\subset (\\mathbb{Z}^2)^2$, and $V_3 \\subset (\\mathbb{Z}^2)^3$ such that\n",
    "\n",
    "* Any family $v \\in V_3$ is a superbase of $\\mathbb{Z}^2$, meaning that $\\det(v_1, v_2) = \\pm 1$ and $v_1 + v_2 + v_3 = 0$. Note that this also implies that $\\det(v_2, v_3) = \\det(v_3, v_1) = \\pm 1$.\n",
    "* Any family $v \\in V_2$ is a basis of $\\mathbb{Z}^2$, meaning that $\\det(v_1, v_2) = \\pm 1$, and moreover $\\bigcup_{v \\in V_2} \\{\\pm v_1, \\pm v_2\\} = \\bigcup_{v \\in v_3} \\bigcup_{1 \\leq i < j \\leq 3} \\{\\pm v_i, \\pm v_j\\}$.\n",
    "* Any vector $v \\in V_1$ is irreductible, meaning that its components are coprime, and moreover $\\bigcup_{v \\in V_1} \\{\\pm v\\} = \\bigcup_{v \\in V_2} (\\{\\pm v_1\\} \\cup \\{\\pm v_2\\})$.\n",
    "\n",
    "For any superbase $v \\in V_3$ and matrix $\\mathcal{D} \\in \\mathcal{S}_2$, the coordinates of $\\mathcal{D}$ in the basis $(v_1 v_1^\\top, v_2 v_2^\\top, v_3 v_3^\\top)$ of $\\mathcal{S}_2$ are given by *Selling's formula*:\n",
    "\\begin{equation}\n",
    "    \\mathcal{D} = -\\sum_{i=1}^3 \\langle v_{i+1}^\\perp, \\mathcal{D} v_{i+2}^\\perp \\rangle v_i v_i^\\top,\n",
    "\\end{equation}\n",
    "where indices are taken modulo three. Note that $\\mathcal{D} \\in \\mathcal{S}^+(v)$ if and only if $\\langle v_i^\\perp, \\mathcal{D} v_j^\\perp \\rangle \\leq 0$, for any $1 \\leq i < j \\leq 3$.\n",
    "\n",
    "We use the following numerical scheme:\n",
    "\\begin{equation}\n",
    "    \\max_{v \\in V_3} H(v, B(x, u(x), D_h u(x)), \\Delta_h^v [u, A(x, u(x), D_h u(x))](x)) = 0,\n",
    "\\end{equation}\n",
    "where for any $v \\in V_3$, $b \\geq 0$, and $\\delta \\in \\mathbb{R}^3$,\n",
    "\\begin{equation}\n",
    "    H(v, b, \\delta) := \\max_{\\substack{\\mathcal{D} \\in \\mathcal{S}^+(v) \\\\ \\operatorname{Tr}(\\mathcal{D}) = 1}} \\left(2 (\\det \\mathcal{D})^{1/2} b^{1/2} + \\sum_{i=1}^3 \\langle v_{i+1}^\\perp, \\mathcal{D} v_{i+2}^\\perp \\rangle \\delta_i\\right).\n",
    "\\end{equation}"
   ]
  },
  {
   "cell_type": "markdown",
   "metadata": {
    "cell_marker": "\"\"\"",
    "lines_to_next_cell": 2
   },
   "source": [
    "### Computing the maximum"
   ]
  },
  {
   "cell_type": "markdown",
   "metadata": {
    "cell_marker": "\"\"\"",
    "lines_to_next_cell": 2
   },
   "source": [
    "The maximum in the definition of $H$ may be computed explicitly: for any $\\rho \\in \\overline B(0, 1)$, the closed unit ball of $\\mathbb{R}^2$, let\n",
    "\\begin{equation}\n",
    "    \\mathfrak{D}(\\rho) := \\frac{1}{2} \\begin{pmatrix}\n",
    "        1 + \\rho_0 & \\rho_1 \\\\\n",
    "        \\rho_1 & 1 - \\rho_0\n",
    "    \\end{pmatrix}.\n",
    "\\end{equation}\n",
    "Then $\\{\\mathcal{D} \\in \\mathcal{S}_2^+ \\mid \\operatorname{Tr}(\\mathcal{D}) = 1\\} = \\{\\mathfrak{D}(\\rho) \\mid \\rho \\in \\overline B(0, 1)\\}$. Moreover, for $\\rho \\in \\overline B(0, 1)$, $2 \\det (\\mathfrak{D}(\\rho))^{1/2} = (1 - |\\rho|^2)^{1/2}$, and for $v \\in V_3$,\n",
    "\\begin{equation}\n",
    "    (-\\langle v_{i+1}^\\perp, \\mathfrak{D}(\\rho) v_{i+2}^\\perp \\rangle)_{1 \\leq i \\leq 3} = W \\rho + w\n",
    "\\end{equation}\n",
    "where\n",
    "\\begin{equation}\n",
    "    W := \\frac{1}{2} \\begin{pmatrix}\n",
    "        v_{2,1} v_{3,1} - v_{2,2} v_{3,2} & v_{2,1} v_{3,2} + v_{2,2} v_{3,1} \\\\\n",
    "        v_{1,1} v_{3,1} - v_{1,2} v_{3,2} & v_{1,1} v_{3,2} + v_{1,2} v_{3,1} \\\\\n",
    "        v_{1,1} v_{2,1} - v_{1,2} v_{2,2} & v_{1,1} v_{2,2} + v_{1,2} v_{2,1}\n",
    "    \\end{pmatrix},\n",
    "\\end{equation}\n",
    "\\begin{equation}\n",
    "    w := -\\frac{1}{2} \\begin{pmatrix}\n",
    "        \\langle v_2, v_3 \\rangle \\\\\n",
    "        \\langle v_1, v_3 \\rangle \\\\\n",
    "        \\langle v_1, v_2 \\rangle\n",
    "    \\end{pmatrix}.\n",
    "\\end{equation}\n",
    "Remark that the expression of the matrix $Q := W W^\\top$ simplifies to\n",
    "\\begin{equation}\n",
    "    Q = \\frac{1}{4} \\begin{pmatrix}\n",
    "        |v_2|^2 |v_3|^2 & \\langle v_1, v_2 \\rangle |v_3|^2 & \\langle v_1, v_3 \\rangle |v_2|^2 \\\\\n",
    "        \\langle v_1, v_2 \\rangle |v_3|^2 & |v_1|^2 |v_3|^2 & \\langle v_2, v_3 \\rangle |v_1|^2 \\\\\n",
    "        \\langle v_1, v_3 \\rangle |v_2|^2 & \\langle v_2, v_3 \\rangle |v_1|^2 & |v_1|^2 |v_2|^2\n",
    "    \\end{pmatrix}.\n",
    "\\end{equation}\n",
    "The definition of $H$ may be rewritten as\n",
    "\\begin{equation}\n",
    "    H(v, b, \\delta) = \\max_{\\substack{\\rho \\in \\overline B(0, 1) \\\\ W \\rho + w \\geq 0}} \\left(b^{1/2} (1 - |\\rho|^2)^{1/2} - \\langle W \\rho + w, \\delta \\rangle\\right),\n",
    "\\end{equation}\n",
    "where the inequality $W \\rho + w \\geq 0$ must hold elementwise.\n",
    "\n",
    "If the optimal $\\rho$ is such that $W \\rho + w > 0$, then by convexity,\n",
    "\\begin{equation}\n",
    "    H(v, b, \\delta) = \\max_{\\rho \\in \\overline B(0, 1)} \\left(b^{1/2} (1 - |\\rho|^2)^{1/2} - \\langle W \\rho + w, \\delta \\rangle\\right) = (b + \\langle \\delta, Q \\delta \\rangle)^{1/2} - \\langle w, \\delta \\rangle,\n",
    "\\end{equation}\n",
    "and the maximum is attained at point\n",
    "\\begin{equation}\n",
    "    \\rho_*(v, b, \\delta) := -\\frac{W^\\top \\delta}{(b + \\langle \\delta, Q \\delta \\rangle)^{1/2}}.\n",
    "\\end{equation}\n",
    "\n",
    "Note that the inequality $W \\rho_*(v, b, \\delta) \\geq 0$ is equivalent to $Q \\delta \\leq (b + \\langle \\delta, Q \\delta \\rangle)^{1/2} w$. To handle cases where the constraint $W \\rho + w \\geq 0$ is saturated in the definition of $H$, we rewrite the numerical scheme as\n",
    "\\begin{equation}\n",
    "    \\max_{i \\in \\{2, 3\\}} \\max_{v \\in V_i} H_i(v, B(x, u(x), D_h u(x)), \\Delta_h^v [u, A(x, u(x), D_h u(x))](x)) = 0,\n",
    "\\end{equation}\n",
    "where\n",
    "\\begin{equation}\n",
    "    H_3(v, b, \\delta) := \\begin{cases}\n",
    "        (b + \\langle \\delta, Q \\delta \\rangle)^{1/2} - \\langle w, \\delta \\rangle &\\text{if } Q \\delta \\leq (b + \\langle \\delta, Q \\delta \\rangle)^{1/2} w, \\\\\n",
    "        -\\infty &\\text{else},\n",
    "    \\end{cases}\n",
    "\\end{equation}\n",
    "and\n",
    "\\begin{equation}\n",
    "    H_2(v, b, \\delta) := \\max_{t \\in [-1, 1]} \\left(2 \\left(\\det \\left(\\frac{1+t}{2} \\frac{v_1 v_1^\\top}{|v_1|^2} + \\frac{1-t}{2} \\frac{v_2 v_2^\\top}{|v_2|^2}\\right)\\right)^{1/2} b^{1/2} - \\frac{1+t}{2 |v_1|^2} \\delta_1 - \\frac{1-t}{2 |v_2|^2} \\delta_2\\right).\n",
    "\\end{equation}\n",
    "\n",
    "The maximum in the definition of $H_2$ may also be computed exactly: for any $v \\in V_2$ and $t \\in [-1, 1]$, we compute that\n",
    "\\begin{equation}\n",
    "    2 \\left(\\det \\left(\\frac{1+t}{2} \\frac{v_1 v_1^\\top}{|v_1|^2} + \\frac{1-t}{2} \\frac{v_2 v_2^\\top}{|v_2|^2}\\right)\\right)^{1/2}\n",
    "    = \\frac{|\\det(v_1, v_2)|}{|v_1| |v_2|} (1 - t^2)^{1/2}\n",
    "    = \\frac{1}{|v_1| |v_2|} (1 - t^2)^{1/2}.\n",
    "\\end{equation}\n",
    "We deduce that\n",
    "\\begin{equation}\n",
    "    H_2(v, b, \\delta) = \\left(\\frac{b}{|v_1|^2 |v_2|^2} + \\left(\\frac{\\delta_1}{2 |v_1|^2} - \\frac{\\delta_2}{2 |v_2|^2}\\right)^2\\right)^{1/2} - \\left(\\frac{\\delta_1}{2 |v_1|^2} + \\frac{\\delta_2}{2 |v_2|^2}\\right),\n",
    "\\end{equation}\n",
    "which we write as\n",
    "\\begin{equation}\n",
    "    H_2(v, b, \\delta) = (\\omega_0 b + \\langle \\omega_1, \\delta \\rangle^2)^{1/2} - \\langle \\omega_2, \\delta \\rangle\n",
    "\\end{equation}\n",
    "where\n",
    "\\begin{equation}\n",
    "    \\omega_0 := \\frac{1}{|v_1|^2 |v_2|^2},\n",
    "\\end{equation}\n",
    "\\begin{equation}\n",
    "    \\omega_1 := \\frac{1}{2} \\begin{pmatrix}\n",
    "        1 / |v_1|^2 \\\\\n",
    "        -1 / |v_2|^2\n",
    "    \\end{pmatrix},\n",
    "\\end{equation}\n",
    "\\begin{equation}\n",
    "    \\omega_3 := \\frac{1}{2} \\begin{pmatrix}\n",
    "        1 / |v_1|^2 \\\\\n",
    "        1 / |v_2|^2\n",
    "    \\end{pmatrix}.\n",
    "\\end{equation}"
   ]
  },
  {
   "cell_type": "markdown",
   "metadata": {
    "cell_marker": "\"\"\"",
    "lines_to_next_cell": 2
   },
   "source": [
    "## 3. Implementation of the scheme"
   ]
  },
  {
   "cell_type": "markdown",
   "metadata": {
    "cell_marker": "\"\"\"",
    "lines_to_next_cell": 2
   },
   "source": [
    "We start by declaring an array `x` of elements of $h \\mathbb{Z}^2 \\cap [-1, 1]^2$ and a domain $\\Omega \\subset [-1, 1]^2$."
   ]
  },
  {
   "cell_type": "code",
   "execution_count": 4,
   "metadata": {
    "lines_to_next_cell": 2
   },
   "outputs": [],
   "source": [
    "x = np.stack(np.meshgrid(*(2 * [np.linspace(-1, 1, 40)]), indexing=\"ij\"))\n",
    "domain_ball = Domain.Ball(radius=0.9)"
   ]
  },
  {
   "cell_type": "markdown",
   "metadata": {
    "cell_marker": "\"\"\""
   },
   "source": [
    "Instances of the following class represent the stencil used in the scheme. Arrays `V2_indices` and `V3_indices` store, respectively, indices in `V1` of vectors of bases of $V_2$ and superbases of $V_3$, up to a change of sign. We also store arrays `Q`, `w`, `omega0`, `omega1`, and `omega2` of matrices $Q$ and vectors $v$ associated to superbases $v \\in V_3$, and of scalars $\\omega_0$ and vectors $\\omega_1$ and $\\omega_2$ associated to bases $v \\in V_2$."
   ]
  },
  {
   "cell_type": "code",
   "execution_count": 5,
   "metadata": {},
   "outputs": [],
   "source": [
    "@dataclass\n",
    "class Stencil:\n",
    "    V1: np.ndarray\n",
    "    V2: np.ndarray\n",
    "    V2_indices: np.ndarray\n",
    "    V3: np.ndarray\n",
    "    V3_indices: np.ndarray\n",
    "    Q: np.ndarray\n",
    "    w: np.ndarray\n",
    "    omega0: np.ndarray\n",
    "    omega1: np.ndarray\n",
    "    omega2: np.ndarray"
   ]
  },
  {
   "cell_type": "markdown",
   "metadata": {
    "cell_marker": "\"\"\""
   },
   "source": [
    "Using Selling's algorithm, given $\\mu \\geq 1$, we compute a stencil $V_1$, $V_2$, $V_3$ such that any matrix $\\mathcal{D} \\in \\mathcal{S}_2^{++}$ whose condition number is less than or equal to $\\mu$ belongs to $\\bigcup_{v \\in V_3} \\mathcal{S}^+(v)$."
   ]
  },
  {
   "cell_type": "code",
   "execution_count": 6,
   "metadata": {},
   "outputs": [],
   "source": [
    "def StencilForConditioning(cond):\n",
    "    V3 = Selling.SuperbasesForConditioning(cond)\n",
    "    offsets = V3.reshape((2, -1))\n",
    "\n",
    "    # Make offsets positive for the lexicographic order, inversing their sign if needed.\n",
    "    offsets[:, offsets[0] < 0] *= -1\n",
    "    offsets[:, np.logical_and(offsets[0] == 0, offsets[1] < 0)] *= -1\n",
    "\n",
    "    V1, indices = np.unique(offsets, axis=1, return_inverse=True)\n",
    "    V3_indices = indices.reshape(V3.shape[1:])\n",
    "    V2_indices = np.unique(\n",
    "        np.sort(\n",
    "            np.concatenate(\n",
    "                (V3_indices[[0, 1]], V3_indices[[0, 2]], V3_indices[[1, 2]]), axis=1\n",
    "            ),\n",
    "            axis=0,\n",
    "        ),\n",
    "        axis=1,\n",
    "    )\n",
    "    V2 = V1[:, V2_indices]\n",
    "\n",
    "    Q = np.zeros((3, 3, V3.shape[2]))\n",
    "    w = np.zeros((3, V3.shape[2]))\n",
    "\n",
    "    for i in range(3):\n",
    "        Q[i, i] = (\n",
    "            lp.dot_VV(V3[:, (i + 1) % 3], V3[:, (i + 1) % 3])\n",
    "            * lp.dot_VV(V3[:, (i + 2) % 3], V3[:, (i + 2) % 3])\n",
    "            / 4\n",
    "        )\n",
    "        Q[i, (i + 1) % 3] = (\n",
    "            lp.dot_VV(V3[:, i], V3[:, (i + 1) % 3])\n",
    "            * lp.dot_VV(V3[:, (i + 2) % 3], V3[:, (i + 2) % 3])\n",
    "            / 4\n",
    "        )\n",
    "        Q[i, (i + 2) % 3] = (\n",
    "            lp.dot_VV(V3[:, i], V3[:, (i + 2) % 3])\n",
    "            * lp.dot_VV(V3[:, (i + 1) % 3], V3[:, (i + 1) % 3])\n",
    "            / 4\n",
    "        )\n",
    "        w[i] = -lp.dot_VV(V3[:, (i + 1) % 3], V3[:, (i + 2) % 3]) / 2\n",
    "\n",
    "    omega0 = 1 / (lp.dot_VV(V2[:, 0], V2[:, 0]) * lp.dot_VV(V2[:, 1], V2[:, 1]))\n",
    "    omega1 = 1 / (\n",
    "        2 * np.stack([lp.dot_VV(V2[:, 0], V2[:, 0]), -lp.dot_VV(V2[:, 1], V2[:, 1])])\n",
    "    )\n",
    "    omega2 = 1 / (\n",
    "        2 * np.stack([lp.dot_VV(V2[:, 0], V2[:, 0]), lp.dot_VV(V2[:, 1], V2[:, 1])])\n",
    "    )\n",
    "\n",
    "    return Stencil(V1, V2, V2_indices, V3, V3_indices, Q, w, omega0, omega1, omega2)"
   ]
  },
  {
   "cell_type": "code",
   "execution_count": 7,
   "metadata": {
    "lines_to_next_cell": 2
   },
   "outputs": [],
   "source": [
    "stencil = StencilForConditioning(15)"
   ]
  },
  {
   "cell_type": "markdown",
   "metadata": {
    "cell_marker": "\"\"\""
   },
   "source": [
    "We implement functions $H_3$ and $H_2$ defined above. In practice, instead of a superbase $v \\in V_3$ (respectively a basis $v \\in V_2$), their first arguments are the associated matrix $Q$ and vector $w$ (respectively the associated scalar $\\omega_0$ and vectors $\\omega_1$ and $\\omega_2$)."
   ]
  },
  {
   "cell_type": "code",
   "execution_count": 8,
   "metadata": {},
   "outputs": [],
   "source": [
    "def H3(Q, w, b, delta):\n",
    "    Q_delta = lp.dot_AV(Q, delta)\n",
    "    r = np.sqrt(b + lp.dot_VV(delta, Q_delta))\n",
    "    return np.where(np.all(Q_delta <= r * w, axis=0), r - lp.dot_VV(w, delta), -np.inf)"
   ]
  },
  {
   "cell_type": "code",
   "execution_count": 9,
   "metadata": {},
   "outputs": [],
   "source": [
    "def H2(omega0, omega1, omega2, b, delta):\n",
    "    return np.sqrt(omega0 * b + lp.dot_VV(omega1, delta) ** 2) - lp.dot_VV(\n",
    "        omega2, delta\n",
    "    )"
   ]
  },
  {
   "cell_type": "markdown",
   "metadata": {
    "cell_marker": "\"\"\""
   },
   "source": [
    "The scheme may be written as\n",
    "\\begin{equation}\n",
    "    \\max_{i \\in \\{1, 2, 3\\}} \\max_{v \\in V_i} H_i(v, B(x, u(x), D_h u(x)), \\Delta_h^v [u, A(x, u(x), D_h u(x))](x)) = 0,\n",
    "\\end{equation}\n",
    "where\n",
    "\\begin{equation}\n",
    "    H_1(v, b, \\delta) := 2 \\left(\\det \\left(\\frac{v v^\\top}{|v|^2}\\right)\\right)^{1/2} b^{1/2} - \\frac{\\delta}{|v|^2} = -\\frac{\\delta}{|v|^2}.\n",
    "\\end{equation}\n",
    "At points $x \\in \\mathcal{G}_h$ such that $B(x, u(x), D_h u(x)) = 0$, the scheme degenerates to\n",
    "\\begin{equation}\n",
    "    \\max_{v \\in V_1} H_1(v, 0, \\Delta_h^v [u, A(x, u(x), D_h u(x))](x)) = 0.\n",
    "\\end{equation}\n",
    "To prevent errors in the automatic differentiation process, in practice we have to handle this case separately, so we implement the function $H_1$ below. Since it does not depend on $b$, we drop the second argument."
   ]
  },
  {
   "cell_type": "code",
   "execution_count": 10,
   "metadata": {},
   "outputs": [],
   "source": [
    "def H1(v, delta):\n",
    "    return -delta / lp.dot_VV(v, v)"
   ]
  },
  {
   "cell_type": "markdown",
   "metadata": {
    "cell_marker": "\"\"\""
   },
   "source": [
    "We define a function `Scheme` which is shared between implementations of the scheme with different boundary conditions. Given $a \\in \\mathcal{S}_2$, $b \\geq 0$, the stencil $V_1$, $V_2$, $V_3$, and $\\Delta_h^{V_1} [u, 0](x)$, it returns\n",
    "\\begin{equation}\n",
    "    \\max_{i \\in \\{1, 2, 3\\}} \\max_{v \\in V_i} H_i(v, b, \\Delta_h^v [u, a](x)).\n",
    "\\end{equation}"
   ]
  },
  {
   "cell_type": "code",
   "execution_count": 11,
   "metadata": {},
   "outputs": [],
   "source": [
    "def Scheme(a, b, d2u, stencil):\n",
    "    delta = d2u - lp.dot_VAV(\n",
    "        np.expand_dims(stencil.V1, (2, 3)),\n",
    "        np.expand_dims(a, 2),\n",
    "        np.expand_dims(stencil.V1, (2, 3)),\n",
    "    )\n",
    "\n",
    "    spad_sum(b)\n",
    "    spad_sum(delta)\n",
    "\n",
    "    # For now, replace `b` with one when it is zero, to prevent errors during automatic\n",
    "    # differentiation.\n",
    "    b_zero = b == 0\n",
    "    b = np.where(b_zero, 1, b)\n",
    "\n",
    "    residue = -np.inf\n",
    "\n",
    "    for i in range(stencil.V3.shape[2]):\n",
    "        residue = np.maximum(\n",
    "            residue,\n",
    "            H3(\n",
    "                stencil.Q[:, :, i, np.newaxis, np.newaxis],\n",
    "                stencil.w[:, i, np.newaxis, np.newaxis],\n",
    "                b,\n",
    "                delta[stencil.V3_indices[:, i]],\n",
    "            ),\n",
    "        )\n",
    "\n",
    "    for i in range(stencil.V2.shape[2]):\n",
    "        residue = np.maximum(\n",
    "            residue,\n",
    "            H2(\n",
    "                stencil.omega0[i, np.newaxis, np.newaxis],\n",
    "                stencil.omega1[:, i, np.newaxis, np.newaxis],\n",
    "                stencil.omega2[:, i, np.newaxis, np.newaxis],\n",
    "                b,\n",
    "                delta[stencil.V2_indices[:, i]],\n",
    "            ),\n",
    "        )\n",
    "\n",
    "    # Reset residue to minus infinity where `b` should have been zero.\n",
    "    residue = np.where(b_zero, -np.inf, residue)\n",
    "\n",
    "    for i in range(stencil.V1.shape[1]):\n",
    "        residue = np.maximum(\n",
    "            residue, H1(stencil.V1[:, i, np.newaxis, np.newaxis], delta[i])\n",
    "        )\n",
    "\n",
    "    return residue"
   ]
  },
  {
   "cell_type": "markdown",
   "metadata": {
    "cell_marker": "\"\"\"",
    "lines_to_next_cell": 2
   },
   "source": [
    "## 4. Dirichlet boundary conditions"
   ]
  },
  {
   "cell_type": "markdown",
   "metadata": {
    "cell_marker": "\"\"\""
   },
   "source": [
    "Let $\\mathcal{\\overline G}_h := \\mathcal{G}_h \\cap \\partial \\Omega$ and $g \\colon \\partial \\Omega \\to \\mathbb{R}$. We are looking for a function $u \\colon \\mathcal{\\overline G}_h \\to \\mathbb{R}$ which solves the numerical scheme on $\\mathcal{G}_h$ and such that $u(x) = g(x)$ on $\\partial \\Omega$. We have to explain how we adapt the definitions of finite difference operators $D_h$ and $\\Delta_h^e$ near $\\partial \\Omega$. For any $u \\colon \\mathcal{\\overline G}_h \\to \\mathbb{R}$, $x \\in \\mathcal{G}_h$, $e \\in \\mathbb{Z}^2$, and $A \\in \\mathcal{S}_2$, we let\n",
    "\\begin{equation}\n",
    "    \\delta_h^e u(x) := \\frac{u(x + h_+ e) - u(x - h_- e)}{h_+ + h_-},\n",
    "\\end{equation}\n",
    "\\begin{equation}\n",
    "    \\Delta_h^e [u, A](x) := \\frac{2}{h_+ + h_-} \\left(\\frac{u(x + h_+ e) - u(x)}{h_+} + \\frac{u(x - h_- e) - u(x)}{h_-}\\right) - \\langle e, A e \\rangle,\n",
    "\\end{equation}\n",
    "where\n",
    "\\begin{equation}\n",
    "    h_+ := \\sup \\{t \\leq h \\mid x + t' e \\in \\Omega,\\, \\forall t' \\in [0, t]\\},\n",
    "\\end{equation}\n",
    "\\begin{equation}\n",
    "    h_- := \\sup \\{t \\leq h \\mid x - t' e \\in \\Omega,\\, \\forall t' \\in [0, t]\\}.\n",
    "\\end{equation}\n",
    "Denoting by $(e_1, e_2)$ the canonical basis of $\\mathbb{R}^2$, we let\n",
    "\\begin{equation}\n",
    "    D_h u(x) := \\begin{pmatrix}\n",
    "        \\delta_h^{e_1} u(x) \\\\\n",
    "        \\delta_h^{e_2} u(x)\n",
    "    \\end{pmatrix}.\n",
    "\\end{equation}"
   ]
  },
  {
   "cell_type": "code",
   "execution_count": 12,
   "metadata": {
    "lines_to_next_cell": 2
   },
   "outputs": [],
   "source": [
    "def SchemeDirichlet(u, x, domain, A, B, g, stencil):\n",
    "    bc = Domain.Dirichlet(domain, g, x)\n",
    "\n",
    "    du = bc.DiffCentered(u, [[1, 0], [0, 1]])\n",
    "    d2u = bc.Diff2(u, stencil.V1)\n",
    "\n",
    "    return np.where(\n",
    "        bc.interior, Scheme(A(x, u, du), B(x, u, du), d2u, stencil), u - bc.grid_values\n",
    "    )"
   ]
  },
  {
   "cell_type": "code",
   "execution_count": 13,
   "metadata": {
    "lines_to_next_cell": 2
   },
   "outputs": [
    {
     "name": "stdout",
     "output_type": "stream",
     "text": [
      "Iteration: 1  Residue norm: 38.286624430549296\n",
      "Iteration: 2  Residue norm: 7.946319358266206\n",
      "Iteration: 3  Residue norm: 3.144455694118712\n",
      "Iteration: 4  Residue norm: 0.25400077389991793\n",
      "Iteration: 5  Residue norm: 0.006736470652718651\n",
      "Iteration: 6  Residue norm: 5.825747924959046e-06\n",
      "Iteration: 7  Residue norm: 3.558930927738402e-12\n",
      "Target residue reached. Terminating.\n"
     ]
    },
    {
     "data": {
      "image/png": "[encoded data removed]",
      "text/plain": [
       "<Figure size 432x288 with 1 Axes>"
      ]
     },
     "metadata": {
      "needs_background": "light"
     },
     "output_type": "display_data"
    },
    {
     "name": "stdout",
     "output_type": "stream",
     "text": [
      "Error: 0.005079609830197294\n"
     ]
    }
   ],
   "source": [
    "# TODO: bug in agd freeway?\n",
    "\n",
    "\n",
    "def A_zero(x, r, p):\n",
    "    return np.zeros((2, 2) + x.shape[1:])\n",
    "\n",
    "\n",
    "def B_quartic(x, r, p):\n",
    "    return 48 * lp.dot_VV(x, x) ** 2\n",
    "\n",
    "\n",
    "u = newton_root(\n",
    "    SchemeDirichlet,\n",
    "    np.zeros(x.shape[1:]),\n",
    "    (x, domain_ball, A_zero, B_quartic, 0.9 ** 2, stencil),\n",
    ")\n",
    "\n",
    "plt.contourf(*x, np.where(domain_ball.level(x) < 0, u, np.nan))\n",
    "plt.show()\n",
    "\n",
    "\n",
    "def ExactQuartic(x):\n",
    "    return lp.dot_VV(x, x) ** 2\n",
    "\n",
    "\n",
    "error = np.where(domain_ball.level(x) < 0, u - ExactQuartic(x), 0)\n",
    "print(\"Error:\", np.max(np.abs(error)))"
   ]
  },
  {
   "cell_type": "markdown",
   "metadata": {
    "cell_marker": "\"\"\""
   },
   "source": [
    "## 5. Optimal transport boundary conditions"
   ]
  },
  {
   "cell_type": "code",
   "execution_count": 14,
   "metadata": {},
   "outputs": [],
   "source": [
    "def SchemeBV2(u, x, domain, A, B, C, sigma, stencil):\n",
    "    bc = Domain.Dirichlet(Domain.Box([[-1, 1], [-1, 1]]), np.inf, x)\n",
    "\n",
    "    du0 = bc.DiffUpwind(u, [[1, 0], [0, 1]])\n",
    "    du1 = bc.DiffUpwind(u, [[-1, 0], [0, -1]])\n",
    "    assert np.sum(np.logical_and(du0 == np.inf, du1 == np.inf)) == 0\n",
    "    du0 = np.where(du0 == np.inf, -du1, du0)\n",
    "    du1 = np.where(du1 == np.inf, -du0, du1)\n",
    "    du = (du0 - du1) / 2\n",
    "\n",
    "    du0 = bc.DiffUpwind(u, stencil.V1)\n",
    "    du0 = np.where(\n",
    "        du0 == np.inf,\n",
    "        sigma(\n",
    "            np.expand_dims(x, 1),\n",
    "            np.expand_dims(u, 0),\n",
    "            np.multiply.outer(stencil.V1, np.ones(x.shape[1:])),\n",
    "        ),\n",
    "        du0,\n",
    "    )\n",
    "    du1 = bc.DiffUpwind(u, -stencil.V1)\n",
    "    du1 = np.where(\n",
    "        du1 == np.inf,\n",
    "        sigma(\n",
    "            np.expand_dims(x, 1),\n",
    "            np.expand_dims(u, 0),\n",
    "            np.multiply.outer(-stencil.V1, np.ones(x.shape[1:])),\n",
    "        ),\n",
    "        du1,\n",
    "    )\n",
    "    d2u = (du0 + du1) / bc.gridscale\n",
    "\n",
    "    return np.where(\n",
    "        bc.interior,\n",
    "        Scheme(A(x, u, du), np.where(domain.level(x) < 0, B(x, u, du), 0), d2u, stencil)\n",
    "        + u.flatten()[np.argmin(domain.level(x))]\n",
    "        - C,\n",
    "        u - bc.grid_values,\n",
    "    )"
   ]
  },
  {
   "cell_type": "code",
   "execution_count": 15,
   "metadata": {},
   "outputs": [
    {
     "data": {
      "image/png": "[encoded data removed]",
      "text/plain": [
       "<Figure size 432x288 with 1 Axes>"
      ]
     },
     "metadata": {
      "needs_background": "light"
     },
     "output_type": "display_data"
    }
   ],
   "source": [
    "def f(x):\n",
    "    return (\n",
    "        1 / (3 * 0.9 ** 2)\n",
    "        + np.where((x[0] + 0.1) ** 2 + (x[1] - 0.2) ** 2 < 0.25, 1 / (3 * 0.5 ** 2), 0)\n",
    "        + np.where(\n",
    "            np.logical_and(np.logical_and(x[0] < 0.5, x[1] > -0.5), x[0] - x[1] > 0,),\n",
    "            2 * np.pi / 3,\n",
    "            0,\n",
    "        )\n",
    "    )\n",
    "\n",
    "\n",
    "plt.contourf(*x, np.where(domain_ball.level(x) < 0, f(x), np.nan))\n",
    "plt.show()"
   ]
  },
  {
   "cell_type": "code",
   "execution_count": 16,
   "metadata": {},
   "outputs": [
    {
     "name": "stderr",
     "output_type": "stream",
     "text": [
      "/Users/guillaume/.pyenv/versions/3.8.3/envs/notebooks/lib/python3.8/site-packages/agd/AutomaticDifferentiation/Sparse.py:100: RuntimeWarning: divide by zero encountered in true_divide\n",
      "  _concatenate(self.coef*_add_dim(1/other.value),other.coef*_add_dim(-self.value/other.value**2)),\n"
     ]
    },
    {
     "name": "stdout",
     "output_type": "stream",
     "text": [
      "Iteration: 1  Residue norm: 0.03152794519754967\n",
      "Iteration: 2  Residue norm: 0.01638739823299952\n",
      "Iteration: 3  Residue norm: 0.014081309086812377\n",
      "Iteration: 4  Residue norm: 0.0013355731780688718\n",
      "Iteration: 5  Residue norm: 0.0013074280638264296\n",
      "Iteration: 6  Residue norm: 0.00041637081591058833\n",
      "Iteration: 8  Residue norm: 9.041749704384594e-05\n",
      "Iteration: 10  Residue norm: 9.427335231904088e-09\n",
      "Target residue reached. Terminating.\n"
     ]
    },
    {
     "data": {
      "image/png": "[encoded data removed]",
      "text/plain": [
       "<Figure size 432x288 with 1 Axes>"
      ]
     },
     "metadata": {
      "needs_background": "light"
     },
     "output_type": "display_data"
    }
   ],
   "source": [
    "def A_reflector(x, r, p):\n",
    "    tmp = 1 + np.sqrt(1 - lp.dot_VV(p, p) / r ** 4)\n",
    "    return (2 + tmp) / r * lp.outer(p, p) - r ** 3 * tmp * lp.identity(x.shape[1:])\n",
    "\n",
    "\n",
    "def B_reflector(x, r, p):\n",
    "    tmp = 1 + np.sqrt(1 - lp.dot_VV(p, p) / r ** 4)\n",
    "    return r ** 6 * (tmp ** 3 - tmp ** 2) * f(x)\n",
    "\n",
    "\n",
    "def sigma_reflector(x, r, e):\n",
    "    return 2 * r ** 3 * (np.sqrt(lp.dot_VV(e, e)) - lp.dot_VV(x, e))\n",
    "\n",
    "\n",
    "u = newton_root(\n",
    "    SchemeBV2,\n",
    "    np.full(x.shape[1:], 0.1),\n",
    "    (x, domain_ball, A_reflector, B_reflector, 0.1, sigma_reflector, stencil),\n",
    ")\n",
    "\n",
    "plt.contourf(*x, np.where(domain_ball.level(x) < 0, u, np.nan))\n",
    "plt.show()"
   ]
  },
  {
   "cell_type": "code",
   "execution_count": 17,
   "metadata": {
    "lines_to_next_cell": 2
   },
   "outputs": [
    {
     "data": {
      "image/png": "[encoded data removed]",
      "text/plain": [
       "<Figure size 432x288 with 1 Axes>"
      ]
     },
     "metadata": {
      "needs_background": "light"
     },
     "output_type": "display_data"
    }
   ],
   "source": [
    "def Y_reflector(x, r, p):\n",
    "    tmp = 1 + np.sqrt(1 - lp.dot_VV(p, p) / r ** 4)\n",
    "    return x + 1 / (r ** 3 * tmp) * p\n",
    "\n",
    "\n",
    "def Z_reflector(x, r, p):\n",
    "    tmp = 1 + np.sqrt(1 - lp.dot_VV(p, p) / r ** 4)\n",
    "    return (1 - 1 / tmp) / r\n",
    "\n",
    "\n",
    "gridscale = x[0, 1, 0] - x[0, 0, 0]\n",
    "du = fd.DiffCentered(u, [[1, 0], [0, 1]], gridscale)\n",
    "\n",
    "interior = domain_ball.level(x) < 0\n",
    "y = Y_reflector(x[:, interior], u[interior], du[:, interior])\n",
    "z = Z_reflector(x[:, interior], u[interior], du[:, interior])\n",
    "\n",
    "plt.tripcolor(*y, z)\n",
    "plt.show()"
   ]
  },
  {
   "cell_type": "code",
   "execution_count": 18,
   "metadata": {
    "lines_to_next_cell": 2
   },
   "outputs": [
    {
     "data": {
      "image/png": "[encoded data removed]",
      "text/plain": [
       "<Figure size 432x288 with 1 Axes>"
      ]
     },
     "metadata": {
      "needs_background": "light"
     },
     "output_type": "display_data"
    }
   ],
   "source": [
    "simulate_reflector(y, z)"
   ]
  },
  {
   "cell_type": "code",
   "execution_count": null,
   "metadata": {},
   "outputs": [],
   "source": []
  }
 ],
 "metadata": {
  "jupytext": {
   "cell_metadata_filter": "-all",
   "main_language": "python",
   "notebook_metadata_filter": "-all"
  },
  "language_info": {
   "codemirror_mode": {
    "name": "ipython",
    "version": 3
   },
   "file_extension": ".py",
   "mimetype": "text/x-python",
   "name": "python",
   "nbconvert_exporter": "python",
   "pygments_lexer": "ipython3",
   "version": "3.8.3"
  }
 },
 "nbformat": 4,
 "nbformat_minor": 4
}
