{
 "cells": [
  {
   "cell_type": "markdown",
   "metadata": {
    "cell_marker": "\"\"\"",
    "lines_to_next_cell": 2
   },
   "source": [
    "# Monge-Ampère equations"
   ]
  },
  {
   "cell_type": "code",
   "execution_count": 1,
   "metadata": {},
   "outputs": [],
   "source": [
    "import agd.LinearParallel as lp\n",
    "import matplotlib.pyplot as plt\n",
    "import numpy as np\n",
    "from agd import Domain, Selling\n",
    "from agd.AutomaticDifferentiation.Optimization import newton_root"
   ]
  },
  {
   "cell_type": "markdown",
   "metadata": {
    "cell_marker": "\"\"\"",
    "lines_to_next_cell": 2
   },
   "source": [
    "In this notebook, we aim to solve Monge-Ampère equations of the form\n",
    "\n",
    "$$ \\det (D^2 u(x) - A(x, u(x), D u(x))) = B(x, u(x), D u(x)) $$\n",
    "\n",
    "on an open domain $\\Omega \\subset \\mathbb{R}^2$, for some given functions $A \\colon \\mathbb{R}^2 \\times \\mathbb{R} \\times \\mathbb{R}^2 \\to \\mathcal{S}_2$ and $B \\colon \\mathbb{R}^2 \\times \\mathbb{R} \\times \\mathbb{R}^2 \\to \\mathbb{R}$. We reformulate the Monge-Ampère equation in the form\n",
    "\n",
    "$$ \\sup_{\\substack{\\mathcal{D} \\in \\mathcal{S}_2^+ \\\\ \\operatorname{Tr}(\\mathcal{D}) = 1}} 2 (\\det \\mathcal{D})^{1/2} B(x, u(x), D^2 u(x))^{1/2} - \\langle \\mathcal{D}, D^2 u(x) - A(x, u(x), D^2 u(x)) \\rangle = 0. $$\n",
    "\n",
    "This reformulation satisfies two properties:\n",
    "\n",
    "* It is *degenerate elliptic*, meaning that it may be written as\n",
    "\n",
    "  $$ F(x, u(x), D u(x), D^2 u(x)) = 0, $$\n",
    "\n",
    "  where the function $F \\colon \\mathbb{R}^2 \\times \\mathbb{R} \\times \\mathbb{R}^2 \\times \\mathcal{S}_2 \\to \\mathbb{R}$ is nonincreasing with respect to its last variable.\n",
    "\n",
    "* It selects *admissible* solutions, that is, solutions $u \\colon \\Omega \\to \\mathbb{R}$ such that\n",
    "\n",
    "  $$ D^2 u(x) - A(x, u(x), D u(x)) \\geq 0. $$"
   ]
  },
  {
   "cell_type": "markdown",
   "metadata": {
    "cell_marker": "\"\"\"",
    "lines_to_next_cell": 2
   },
   "source": [
    "## 1. The discretized equation"
   ]
  },
  {
   "cell_type": "markdown",
   "metadata": {
    "cell_marker": "\"\"\"",
    "lines_to_next_cell": 2
   },
   "source": [
    "We discretize the reformulated equation on a grid $\\mathcal{G}_h := \\Omega \\cap h \\mathbb{Z}^2$, for some discretization step $h > 0$."
   ]
  },
  {
   "cell_type": "code",
   "execution_count": 2,
   "metadata": {
    "lines_to_next_cell": 2
   },
   "outputs": [],
   "source": [
    "x = np.stack(np.meshgrid(*(2 * [np.linspace(-1, 1, 100)]), indexing=\"ij\"))"
   ]
  },
  {
   "cell_type": "markdown",
   "metadata": {
    "cell_marker": "\"\"\"",
    "lines_to_next_cell": 2
   },
   "source": [
    "The discretization of the equation is called *monotone* if the resulting numerical scheme may be written as\n",
    "\n",
    "$$ F^h(x, u^h(x), u^h) = 0, $$\n",
    "\n",
    "where $F^h \\colon \\mathcal{G}_h \\times \\mathbb{R} \\times \\mathbb{R}^{\\mathcal{G}_h} \\to \\mathbb{R}$ is a function that is nonincreasing with respect to its last argument. Monotonicity is a discrete counterpart to degenerate ellipticity and is sometimes required for the scheme to be convergent.\n",
    "\n",
    "Let $u \\colon \\Omega \\to \\mathbb{R}$ and $x \\in \\Omega$. We assume for now that $x$ is far from $\\partial \\Omega$. For any $e \\in \\mathbb{Z}^d$ such that $B_2(x, h |e|) \\in \\Omega$, we define\n",
    "\n",
    "\\begin{align*}\n",
    "\\delta_h^e u(x) &:= \\frac{u(x + h e) - u(x)}{h}, &\n",
    "\\Delta_h^e u(x) &:= \\frac{u(x + h e) + u(x - h e) - 2 u(x)}{h^2}.\n",
    "\\end{align*}\n",
    "\n",
    "if $u \\in C^4(\\Omega)$, then\n",
    "\n",
    "\\begin{align*}\n",
    "\\delta_h^e u(x) &= \\langle e, D u(x) \\rangle + O(h), &\n",
    "\\Delta_h^e u(x) &= \\langle e, D^2 u(x) e \\rangle + O(h^2).\n",
    "\\end{align*}\n",
    "\n",
    "We build a monotone finite difference scheme using the notion of superbase of $\\mathbb{Z}^2$. A basis of $\\mathbb{Z}^2$ is a pair of $v = (v_1, v_2)$ of vectors of $\\mathbb{Z}^2$ such that $\\det(v_1, v_2) = \\pm 1$. A superbase of $\\mathbb{Z}^2$ is a triplet $v = (v_1, v_2, v_3)$ of vectors of $\\mathbb{Z}^2$ such that $(v_1, v_2)$ is a basis of $\\mathbb{Z}^2$ and $v_3 = -v_1 - v_2$. Note that the definition is symmetric: $(v_1, v_3)$ and $(v_2, v_3)$ are also bases of $\\mathbb{Z}^2$.\n",
    "\n",
    "Let $\\mathcal{D} \\in \\mathcal{S}_2$. If $v$ is a superbase of $\\mathbb{Z}^2$, then we have Selling's formula:\n",
    "\n",
    "$$ \\mathcal{D} = -\\sum_{1 \\leq i \\leq 3} \\langle v_{i+1}, \\mathcal{D} v_{i+2} \\rangle v_i^\\perp (v_i^\\perp)^\\top, $$\n",
    "\n",
    "where indices are taken modulo three. The superbase $v$ is called *$\\mathcal{D}$-obtuse* if $\\langle v_i, \\mathcal{D} v_j \\rangle \\leq 0$ for any $1 \\leq i < j \\leq 3$. If $v$ is $\\mathcal{D}$-obtuse, we define the finite difference operator\n",
    "\n",
    "$$ \\Delta_h^{\\mathcal{D}} u(x) := -\\sum_{1 \\leq i \\leq 3} \\langle v_{i+1}, \\mathcal{D} v_{i+2} \\rangle \\Delta_h^{v_i^\\perp} u(x). $$\n",
    "\n",
    "By Selling's formula, if $u \\in C^4(\\Omega)$, then\n",
    "\n",
    "$$ \\Delta_h^{\\mathcal{D}} u(x) = \\langle \\mathcal{D}, D^2 u(x) \\rangle + O(h^2). $$\n",
    "\n",
    "The $\\mathcal{D}$-obtuseness of $v$ is required so that the operator $\\Delta_h^{\\mathcal{D}}$ may be used to build a monotone scheme. For any superbase $v$ of $\\mathbb{Z}^2$, we define the set $\\mathcal{S}_2^v \\subset \\mathcal{S}_d^+$ of matrices $\\mathcal{D} \\in \\mathcal{S}_d^+$ such that $v$ is $\\mathcal{D}$-obtuse. For any $\\mu \\geq 1$, Selling's algorithm maybe used to compute a set $V$ of superbases of $\\mathbb{Z}^2$ such that $\\cup_{v \\in V} \\mathcal{S}_2^v$ contains all matrices $\\mathcal{D} \\in \\mathcal{S}_2^{++}$ whose condition number is less than or equal to $\\mu$."
   ]
  },
  {
   "cell_type": "code",
   "execution_count": 3,
   "metadata": {},
   "outputs": [],
   "source": [
    "superbases = np.multiply.outer(\n",
    "    Selling.SuperbasesForConditioning(15), np.ones(x.shape[1:], dtype=np.int64)\n",
    ")"
   ]
  },
  {
   "cell_type": "code",
   "execution_count": 4,
   "metadata": {},
   "outputs": [],
   "source": [
    "def MA(A, B, d2u, superbases):\n",
    "    delta = d2u - lp.dot_VAV(\n",
    "        lp.perp(superbases), A[:, :, np.newaxis, np.newaxis], lp.perp(superbases)\n",
    "    )\n",
    "\n",
    "    residue = -np.inf\n",
    "\n",
    "    W = (\n",
    "        -np.stack(\n",
    "            [\n",
    "                np.roll(superbases[0], 1, axis=0) * np.roll(superbases[0], 2, axis=0)\n",
    "                - np.roll(superbases[1], 1, axis=0) * np.roll(superbases[1], 2, axis=0),\n",
    "                np.roll(superbases[0], 1, axis=0) * np.roll(superbases[1], 2, axis=0)\n",
    "                + np.roll(superbases[1], 1, axis=0) * np.roll(superbases[0], 2, axis=0),\n",
    "            ]\n",
    "        )\n",
    "        / 2\n",
    "    )\n",
    "    w = -lp.dot_VV(np.roll(superbases, 1, axis=1), np.roll(superbases, 2, axis=1)) / 2\n",
    "\n",
    "    q = lp.dot_AV(W, delta)\n",
    "    r = np.sqrt(B + lp.dot_VV(q, q))\n",
    "\n",
    "    residue = np.maximum(\n",
    "        residue,\n",
    "        np.max(\n",
    "            np.where(\n",
    "                np.all(lp.dot_VA(q, W) <= r * w, axis=0),\n",
    "                r - lp.dot_VV(w, delta),\n",
    "                -np.inf,\n",
    "            ),\n",
    "            axis=0,\n",
    "        ),\n",
    "    )\n",
    "\n",
    "    bases = np.concatenate(\n",
    "        [superbases[:, [0, 1]], superbases[:, [0, 2]], superbases[:, [1, 2]]], axis=2\n",
    "    )\n",
    "    delta_bases = np.concatenate([delta[[0, 1]], delta[[0, 2]], delta[[1, 2]]], axis=1)\n",
    "\n",
    "    residue = np.maximum(\n",
    "        residue,\n",
    "        np.max(\n",
    "            np.sqrt(\n",
    "                B\n",
    "                * lp.det(bases) ** 2\n",
    "                / (\n",
    "                    lp.dot_VV(bases[:, 0], bases[:, 0])\n",
    "                    * lp.dot_VV(bases[:, 1], bases[:, 1])\n",
    "                )\n",
    "                + (\n",
    "                    delta_bases[0] / lp.dot_VV(bases[:, 0], bases[:, 0])\n",
    "                    - delta_bases[1] / lp.dot_VV(bases[:, 1], bases[:, 1])\n",
    "                )\n",
    "                ** 2\n",
    "                / 4\n",
    "            )\n",
    "            - (\n",
    "                delta_bases[0] / lp.dot_VV(bases[:, 0], bases[:, 0])\n",
    "                + delta_bases[1] / lp.dot_VV(bases[:, 1], bases[:, 1])\n",
    "            )\n",
    "            / 2,\n",
    "            axis=0,\n",
    "        ),\n",
    "    )\n",
    "\n",
    "    return residue"
   ]
  },
  {
   "cell_type": "markdown",
   "metadata": {
    "cell_marker": "\"\"\""
   },
   "source": [
    "## 2. Dirichlet boundary conditions"
   ]
  },
  {
   "cell_type": "code",
   "execution_count": 5,
   "metadata": {},
   "outputs": [],
   "source": [
    "def SchemeDirichlet(u, x, domain, A, B, g, superbases):\n",
    "    bc = Domain.Dirichlet(domain, g, x)\n",
    "\n",
    "    du = bc.DiffCentered(u, [[1, 0], [0, 1]])\n",
    "    d2u = bc.Diff2(u, lp.perp(superbases))\n",
    "\n",
    "    return np.where(\n",
    "        bc.interior, MA(A(x, u, du), B(x, u, du), d2u, superbases), u - bc.grid_values\n",
    "    )"
   ]
  },
  {
   "cell_type": "code",
   "execution_count": 6,
   "metadata": {
    "lines_to_next_cell": 2
   },
   "outputs": [
    {
     "name": "stderr",
     "output_type": "stream",
     "text": [
      "/Users/guillaume/.pyenv/versions/3.8.2/envs/notebooks/lib/python3.8/site-packages/agd/AutomaticDifferentiation/Base.py:156: RuntimeWarning: invalid value encountered in less_equal\n",
      "  return self.value.__array_ufunc__(ufunc,method,*inputs_,**kwargs)\n"
     ]
    },
    {
     "name": "stderr",
     "output_type": "stream",
     "text": [
      "/Users/guillaume/.pyenv/versions/3.8.2/envs/notebooks/lib/python3.8/site-packages/agd/AutomaticDifferentiation/Base.py:156: RuntimeWarning: invalid value encountered in greater\n",
      "  return self.value.__array_ufunc__(ufunc,method,*inputs_,**kwargs)\n"
     ]
    },
    {
     "name": "stderr",
     "output_type": "stream",
     "text": [
      "/Users/guillaume/.pyenv/versions/3.8.2/envs/notebooks/lib/python3.8/site-packages/agd/AutomaticDifferentiation/Base.py:156: RuntimeWarning: invalid value encountered in less_equal\n",
      "  return self.value.__array_ufunc__(ufunc,method,*inputs_,**kwargs)\n"
     ]
    },
    {
     "name": "stderr",
     "output_type": "stream",
     "text": [
      "/Users/guillaume/.pyenv/versions/3.8.2/envs/notebooks/lib/python3.8/site-packages/agd/AutomaticDifferentiation/Base.py:156: RuntimeWarning: invalid value encountered in greater\n",
      "  return self.value.__array_ufunc__(ufunc,method,*inputs_,**kwargs)\n"
     ]
    },
    {
     "name": "stdout",
     "output_type": "stream",
     "text": [
      "Iteration: 1  Residue norm: 3.8923205646025547\n"
     ]
    },
    {
     "name": "stdout",
     "output_type": "stream",
     "text": [
      "Iteration: 2  Residue norm: 1.2872701009837755\n"
     ]
    },
    {
     "name": "stdout",
     "output_type": "stream",
     "text": [
      "Iteration: 3  Residue norm: 0.15508821829617014\n"
     ]
    },
    {
     "name": "stdout",
     "output_type": "stream",
     "text": [
      "Iteration: 4  Residue norm: 0.07236370901154093\n"
     ]
    },
    {
     "name": "stdout",
     "output_type": "stream",
     "text": [
      "Iteration: 5  Residue norm: 0.00892514430203839\n"
     ]
    },
    {
     "name": "stdout",
     "output_type": "stream",
     "text": [
      "Iteration: 6  Residue norm: 0.0005930582622555303\n"
     ]
    },
    {
     "name": "stdout",
     "output_type": "stream",
     "text": [
      "Iteration: 8  Residue norm: 9.136935652520606e-11\n",
      "Target residue reached. Terminating.\n"
     ]
    },
    {
     "data": {
      "image/png": "[encoded data removed]",
      "text/plain": [
       "<Figure size 432x288 with 1 Axes>"
      ]
     },
     "metadata": {
      "needs_background": "light"
     },
     "output_type": "display_data"
    }
   ],
   "source": [
    "domain = Domain.Box([[-1, 1], [-1, 1]])\n",
    "\n",
    "\n",
    "def A(x, r, p):\n",
    "    return np.zeros((2, 2) + x.shape[1:])\n",
    "\n",
    "\n",
    "def B(x, r, p):\n",
    "    return np.ones(x.shape[1:])\n",
    "\n",
    "\n",
    "u = newton_root(\n",
    "    SchemeDirichlet, np.zeros(x.shape[1:]), (x, domain, A, B, 0.0, superbases)\n",
    ")\n",
    "u = np.where(domain.level(x) < 0, u, np.nan)\n",
    "\n",
    "plt.contourf(*x, u)\n",
    "plt.show()"
   ]
  },
  {
   "cell_type": "markdown",
   "metadata": {
    "cell_marker": "\"\"\"",
    "lines_to_next_cell": 2
   },
   "source": [
    "### 2.1. Comparison with the exact solution"
   ]
  },
  {
   "cell_type": "code",
   "execution_count": 7,
   "metadata": {
    "lines_to_next_cell": 2
   },
   "outputs": [
    {
     "name": "stdout",
     "output_type": "stream",
     "text": [
      "Iteration: 1  Residue norm: 73.38824828669112\n"
     ]
    },
    {
     "name": "stdout",
     "output_type": "stream",
     "text": [
      "Iteration: 2  Residue norm: 2.5289149038949263\n"
     ]
    },
    {
     "name": "stdout",
     "output_type": "stream",
     "text": [
      "Iteration: 3  Residue norm: 0.7503878059341889\n"
     ]
    },
    {
     "name": "stdout",
     "output_type": "stream",
     "text": [
      "Iteration: 4  Residue norm: 0.08520012557306544\n"
     ]
    },
    {
     "name": "stdout",
     "output_type": "stream",
     "text": [
      "Iteration: 5  Residue norm: 0.004053121782701563\n"
     ]
    },
    {
     "name": "stdout",
     "output_type": "stream",
     "text": [
      "Iteration: 6  Residue norm: 1.0534494084835089e-05\n"
     ]
    },
    {
     "name": "stdout",
     "output_type": "stream",
     "text": [
      "Iteration: 7  Residue norm: 6.760325632626518e-11\n",
      "Target residue reached. Terminating.\n"
     ]
    },
    {
     "data": {
      "image/png": "[encoded data removed]",
      "text/plain": [
       "<Figure size 432x288 with 1 Axes>"
      ]
     },
     "metadata": {
      "needs_background": "light"
     },
     "output_type": "display_data"
    },
    {
     "name": "stdout",
     "output_type": "stream",
     "text": [
      "Error: 7.667856488336369e-05\n"
     ]
    }
   ],
   "source": [
    "domain = Domain.Ball()\n",
    "\n",
    "\n",
    "def A(x, r, p):\n",
    "    return np.zeros((2, 2) + x.shape[1:])\n",
    "\n",
    "\n",
    "def B(x, r, p):\n",
    "    return (4 + 32 * lp.dot_VV(x, x) + 48 * lp.dot_VV(x, x) ** 2) / 36\n",
    "\n",
    "\n",
    "def Exact(x):\n",
    "    return (lp.dot_VV(x, x) + lp.dot_VV(x, x) ** 2) / 6\n",
    "\n",
    "\n",
    "u = newton_root(\n",
    "    SchemeDirichlet, np.zeros(x.shape[1:]), (x, domain, A, B, 1 / 3, superbases)\n",
    ")\n",
    "u = np.where(domain.level(x) < 0, u, np.nan)\n",
    "\n",
    "plt.contourf(*x, u)\n",
    "plt.show()\n",
    "\n",
    "err = np.where(domain.level(x) < 0, u - Exact(x), 0)\n",
    "print(\"Error:\", np.max(np.abs(err)))"
   ]
  },
  {
   "cell_type": "code",
   "execution_count": 8,
   "metadata": {
    "lines_to_next_cell": 2
   },
   "outputs": [
    {
     "name": "stdout",
     "output_type": "stream",
     "text": [
      "Iteration: 1  Residue norm: 36654.50553736479\n"
     ]
    },
    {
     "name": "stdout",
     "output_type": "stream",
     "text": [
      "Iteration: 2  Residue norm: 8674.717093766165\n"
     ]
    },
    {
     "name": "stdout",
     "output_type": "stream",
     "text": [
      "Iteration: 3  Residue norm: 2035.9275470782238\n"
     ]
    },
    {
     "name": "stdout",
     "output_type": "stream",
     "text": [
      "Iteration: 4  Residue norm: 487.3753000166982\n"
     ]
    },
    {
     "name": "stdout",
     "output_type": "stream",
     "text": [
      "Iteration: 5  Residue norm: 118.7833238304581\n"
     ]
    },
    {
     "name": "stdout",
     "output_type": "stream",
     "text": [
      "Iteration: 6  Residue norm: 32.17804812794521\n"
     ]
    },
    {
     "name": "stdout",
     "output_type": "stream",
     "text": [
      "Iteration: 8  Residue norm: 92.45824056924926\n"
     ]
    },
    {
     "name": "stdout",
     "output_type": "stream",
     "text": [
      "Iteration: 10  Residue norm: 0.42407650415618026\n"
     ]
    },
    {
     "name": "stdout",
     "output_type": "stream",
     "text": [
      "Iteration: 12  Residue norm: 5.4434365681643726e-05\n"
     ]
    },
    {
     "name": "stdout",
     "output_type": "stream",
     "text": [
      "Iteration: 13  Residue norm: 3.0888092084069285e-10\n",
      "Target residue reached. Terminating.\n"
     ]
    },
    {
     "data": {
      "image/png": "[encoded data removed]",
      "text/plain": [
       "<Figure size 432x288 with 1 Axes>"
      ]
     },
     "metadata": {
      "needs_background": "light"
     },
     "output_type": "display_data"
    },
    {
     "name": "stdout",
     "output_type": "stream",
     "text": [
      "Error: 9.893138319005956e-06\n"
     ]
    }
   ],
   "source": [
    "Q = np.array([[2, 1], [1, 2]])\n",
    "Q_inv = np.array([[2, -1], [-1, 2]]) / 3\n",
    "\n",
    "assert np.allclose(Q @ Q_inv, np.eye(2))\n",
    "\n",
    "domain = Domain.Ball()\n",
    "\n",
    "\n",
    "def A(x, r, p):\n",
    "    return -(\n",
    "        r / 3 + lp.dot_VAV(p, np.multiply.outer(Q_inv, np.ones(x.shape[1:])), p) / 3\n",
    "    ) * np.multiply.outer(Q, np.ones(x.shape[1:]))\n",
    "\n",
    "\n",
    "def B(x, r, p):\n",
    "    return (\n",
    "        3\n",
    "        * (\n",
    "            1\n",
    "            + 2 * r / 3\n",
    "            + lp.dot_VAV(p, np.multiply.outer(Q_inv, np.ones(x.shape[1:])), p) / 6\n",
    "        )\n",
    "        ** 2\n",
    "    )\n",
    "\n",
    "\n",
    "def Exact(x):\n",
    "    return lp.dot_VAV(x, np.multiply.outer(Q, np.ones(x.shape[1:])), x) / 2\n",
    "\n",
    "\n",
    "u = newton_root(\n",
    "    SchemeDirichlet, np.zeros(x.shape[1:]), (x, domain, A, B, Exact, superbases)\n",
    ")\n",
    "u = np.where(domain.level(x) < 0, u, np.nan)\n",
    "\n",
    "plt.contourf(*x, u)\n",
    "plt.show()\n",
    "\n",
    "err = np.where(domain.level(x) < 0, u - Exact(x), 0)\n",
    "print(\"Error:\", np.max(np.abs(err)))"
   ]
  },
  {
   "cell_type": "markdown",
   "metadata": {
    "cell_marker": "\"\"\"",
    "lines_to_next_cell": 2
   },
   "source": [
    "### 2.2. Other domains"
   ]
  },
  {
   "cell_type": "code",
   "execution_count": 9,
   "metadata": {
    "lines_to_next_cell": 2
   },
   "outputs": [
    {
     "name": "stdout",
     "output_type": "stream",
     "text": [
      "Iteration: 1  Residue norm: 3.791943963628798\n"
     ]
    },
    {
     "name": "stdout",
     "output_type": "stream",
     "text": [
      "Iteration: 2  Residue norm: 1.1243754556408612\n"
     ]
    },
    {
     "name": "stdout",
     "output_type": "stream",
     "text": [
      "Iteration: 3  Residue norm: 0.14073444491339732\n"
     ]
    },
    {
     "name": "stdout",
     "output_type": "stream",
     "text": [
      "Iteration: 4  Residue norm: 0.04313700837978385\n"
     ]
    },
    {
     "name": "stdout",
     "output_type": "stream",
     "text": [
      "Iteration: 5  Residue norm: 0.00420841762238755\n"
     ]
    },
    {
     "name": "stdout",
     "output_type": "stream",
     "text": [
      "Iteration: 6  Residue norm: 6.915842973143072e-05\n"
     ]
    },
    {
     "name": "stdout",
     "output_type": "stream",
     "text": [
      "Iteration: 8  Residue norm: 5.895284260759581e-13\n",
      "Target residue reached. Terminating.\n"
     ]
    },
    {
     "data": {
      "image/png": "[encoded data removed]",
      "text/plain": [
       "<Figure size 432x288 with 1 Axes>"
      ]
     },
     "metadata": {
      "needs_background": "light"
     },
     "output_type": "display_data"
    }
   ],
   "source": [
    "domain = Domain.Union(Domain.Ball(), Domain.Box())\n",
    "\n",
    "\n",
    "def A(x, r, p):\n",
    "    return np.zeros((2, 2) + x.shape[1:])\n",
    "\n",
    "\n",
    "def B(x, r, p):\n",
    "    return np.ones(x.shape[1:])\n",
    "\n",
    "\n",
    "u = newton_root(\n",
    "    SchemeDirichlet, np.zeros(x.shape[1:]), (x, domain, A, B, 0.0, superbases)\n",
    ")\n",
    "u = np.where(domain.level(x) < 0, u, np.nan)\n",
    "\n",
    "plt.contourf(*x, u)\n",
    "plt.show()"
   ]
  },
  {
   "cell_type": "code",
   "execution_count": 10,
   "metadata": {
    "lines_to_next_cell": 2
   },
   "outputs": [
    {
     "name": "stdout",
     "output_type": "stream",
     "text": [
      "Iteration: 1  Residue norm: 42.75527340343402\n"
     ]
    },
    {
     "name": "stdout",
     "output_type": "stream",
     "text": [
      "Iteration: 2  Residue norm: 147.8676508983342\n"
     ]
    },
    {
     "name": "stdout",
     "output_type": "stream",
     "text": [
      "Iteration: 3  Residue norm: 103.55434260303394\n"
     ]
    },
    {
     "name": "stdout",
     "output_type": "stream",
     "text": [
      "Iteration: 4  Residue norm: 17.479988009476486\n"
     ]
    },
    {
     "name": "stdout",
     "output_type": "stream",
     "text": [
      "Iteration: 5  Residue norm: 0.6784819067407497\n"
     ]
    },
    {
     "name": "stdout",
     "output_type": "stream",
     "text": [
      "Iteration: 6  Residue norm: 5.98286705703884\n"
     ]
    },
    {
     "name": "stdout",
     "output_type": "stream",
     "text": [
      "Iteration: 8  Residue norm: 0.4037764796193133\n"
     ]
    },
    {
     "name": "stdout",
     "output_type": "stream",
     "text": [
      "Iteration: 10  Residue norm: 0.06553648664526313\n"
     ]
    },
    {
     "name": "stdout",
     "output_type": "stream",
     "text": [
      "Iteration: 12  Residue norm: 0.00042153997258154163\n"
     ]
    },
    {
     "name": "stdout",
     "output_type": "stream",
     "text": [
      "Iteration: 14  Residue norm: 9.101608355877033e-13\n",
      "Target residue reached. Terminating.\n"
     ]
    },
    {
     "data": {
      "image/png": "[encoded data removed]",
      "text/plain": [
       "<Figure size 432x288 with 1 Axes>"
      ]
     },
     "metadata": {
      "needs_background": "light"
     },
     "output_type": "display_data"
    }
   ],
   "source": [
    "domain = Domain.Complement(Domain.Ball(), Domain.Box())\n",
    "\n",
    "\n",
    "def A(x, r, p):\n",
    "    return np.zeros((2, 2) + x.shape[1:])\n",
    "\n",
    "\n",
    "def B(x, r, p):\n",
    "    return np.ones(x.shape[1:])\n",
    "\n",
    "\n",
    "u = newton_root(\n",
    "    SchemeDirichlet, np.zeros(x.shape[1:]), (x, domain, A, B, 0.0, superbases)\n",
    ")\n",
    "u = np.where(domain.level(x) < 0, u, np.nan)\n",
    "\n",
    "plt.contourf(*x, u)\n",
    "plt.show()"
   ]
  },
  {
   "cell_type": "markdown",
   "metadata": {
    "cell_marker": "\"\"\""
   },
   "source": [
    "## 3. Optimal transport boundary conditions"
   ]
  },
  {
   "cell_type": "code",
   "execution_count": 11,
   "metadata": {},
   "outputs": [],
   "source": [
    "def SchemeBV2(u, x, domain, A, B, C, sigma, superbases):\n",
    "    bc = Domain.Dirichlet(domain, np.inf, x)\n",
    "\n",
    "    du0 = bc.DiffUpwind(u, [[1, 0], [0, 1]])\n",
    "    du1 = bc.DiffUpwind(u, [[-1, 0], [0, -1]])\n",
    "    # TODO\n",
    "    assert np.sum(np.logical_and(du0 == np.inf, du1 == np.inf)) == 0\n",
    "    du0 = np.where(du0 == np.inf, -du1, du0)\n",
    "    du1 = np.where(du1 == np.inf, -du0, du1)\n",
    "    du = (du0 - du1) / 2\n",
    "\n",
    "    du0 = bc.DiffUpwind(u, lp.perp(superbases))\n",
    "    du0 = np.where(\n",
    "        du0 == np.inf,\n",
    "        sigma(\n",
    "            x[:, np.newaxis, np.newaxis],\n",
    "            u[np.newaxis, np.newaxis],\n",
    "            lp.perp(superbases),\n",
    "        ),\n",
    "        du0,\n",
    "    )\n",
    "    du1 = bc.DiffUpwind(u, -lp.perp(superbases))\n",
    "    du1 = np.where(\n",
    "        du1 == np.inf,\n",
    "        sigma(\n",
    "            x[:, np.newaxis, np.newaxis],\n",
    "            u[np.newaxis, np.newaxis],\n",
    "            -lp.perp(superbases),\n",
    "        ),\n",
    "        du1,\n",
    "    )\n",
    "    d2u = (du0 + du1) / bc.gridscale\n",
    "\n",
    "    return np.where(\n",
    "        bc.interior,\n",
    "        MA(A(x, u, du), B(x, u, du), d2u, superbases)\n",
    "        + u.flatten()[np.argmin(bc.domain.level(bc.grid))]\n",
    "        - C,\n",
    "        u - bc.grid_values,\n",
    "    )"
   ]
  },
  {
   "cell_type": "markdown",
   "metadata": {
    "cell_marker": "\"\"\"",
    "lines_to_next_cell": 2
   },
   "source": [
    "### 3.1. Comparison with the exact solution"
   ]
  },
  {
   "cell_type": "code",
   "execution_count": 12,
   "metadata": {
    "lines_to_next_cell": 2
   },
   "outputs": [
    {
     "name": "stdout",
     "output_type": "stream",
     "text": [
      "Iteration: 1  Residue norm: 2069.1625072476563\n"
     ]
    },
    {
     "name": "stdout",
     "output_type": "stream",
     "text": [
      "Iteration: 2  Residue norm: 109.17028894909507\n"
     ]
    },
    {
     "name": "stdout",
     "output_type": "stream",
     "text": [
      "Iteration: 3  Residue norm: 37.087635039162926\n"
     ]
    },
    {
     "name": "stdout",
     "output_type": "stream",
     "text": [
      "Iteration: 4  Residue norm: 9.48820573079323\n"
     ]
    },
    {
     "name": "stdout",
     "output_type": "stream",
     "text": [
      "Iteration: 5  Residue norm: 3.1017757424223493\n"
     ]
    },
    {
     "name": "stdout",
     "output_type": "stream",
     "text": [
      "Iteration: 6  Residue norm: 0.5158981153606378\n"
     ]
    },
    {
     "name": "stdout",
     "output_type": "stream",
     "text": [
      "Iteration: 8  Residue norm: 0.00010778023556793498\n"
     ]
    },
    {
     "name": "stdout",
     "output_type": "stream",
     "text": [
      "Iteration: 9  Residue norm: 8.353108489622674e-09\n",
      "Target residue reached. Terminating.\n"
     ]
    },
    {
     "data": {
      "image/png": "[encoded data removed]",
      "text/plain": [
       "<Figure size 432x288 with 1 Axes>"
      ]
     },
     "metadata": {
      "needs_background": "light"
     },
     "output_type": "display_data"
    },
    {
     "name": "stdout",
     "output_type": "stream",
     "text": [
      "Error: 0.06925013758897941\n"
     ]
    }
   ],
   "source": [
    "domain = Domain.Ball()\n",
    "\n",
    "\n",
    "def A(x, r, p):\n",
    "    return np.zeros((2, 2) + x.shape[1:])\n",
    "\n",
    "\n",
    "def B(x, r, p):\n",
    "    return (4 + 32 * lp.dot_VV(x, x) + 48 * lp.dot_VV(x, x) ** 2) / 36\n",
    "\n",
    "\n",
    "def sigma(x, r, e):\n",
    "    return np.sqrt(lp.dot_VV(e, e))\n",
    "\n",
    "\n",
    "def Exact(x):\n",
    "    return (lp.dot_VV(x, x) + lp.dot_VV(x, x) ** 2) / 6\n",
    "\n",
    "\n",
    "u = newton_root(\n",
    "    SchemeBV2, np.zeros(x.shape[1:]), (x, domain, A, B, 0, sigma, superbases)\n",
    ")\n",
    "u = np.where(domain.level(x) < 0, u, np.nan)\n",
    "\n",
    "plt.contourf(*x, u)\n",
    "plt.show()\n",
    "\n",
    "err = np.where(domain.level(x) < 0, u - Exact(x), 0)\n",
    "print(\"Error:\", np.max(np.abs(err)))"
   ]
  },
  {
   "cell_type": "code",
   "execution_count": 13,
   "metadata": {
    "lines_to_next_cell": 2
   },
   "outputs": [
    {
     "name": "stdout",
     "output_type": "stream",
     "text": [
      "Iteration: 1  Residue norm: 21.88308012985028\n"
     ]
    },
    {
     "name": "stdout",
     "output_type": "stream",
     "text": [
      "Iteration: 2  Residue norm: 2.0376171082693957\n"
     ]
    },
    {
     "name": "stdout",
     "output_type": "stream",
     "text": [
      "Iteration: 3  Residue norm: 1.3040322188230213\n"
     ]
    },
    {
     "name": "stdout",
     "output_type": "stream",
     "text": [
      "Iteration: 4  Residue norm: 0.15809563451893274\n"
     ]
    },
    {
     "name": "stdout",
     "output_type": "stream",
     "text": [
      "Iteration: 5  Residue norm: 0.0019236615455323208\n"
     ]
    },
    {
     "name": "stdout",
     "output_type": "stream",
     "text": [
      "Iteration: 6  Residue norm: 2.231450664802459e-07\n"
     ]
    },
    {
     "name": "stdout",
     "output_type": "stream",
     "text": [
      "Iteration: 7  Residue norm: 6.088012038940604e-13\n",
      "Target residue reached. Terminating.\n"
     ]
    },
    {
     "data": {
      "image/png": "[encoded data removed]",
      "text/plain": [
       "<Figure size 432x288 with 1 Axes>"
      ]
     },
     "metadata": {
      "needs_background": "light"
     },
     "output_type": "display_data"
    },
    {
     "name": "stdout",
     "output_type": "stream",
     "text": [
      "Error: 0.048291854590035155\n"
     ]
    }
   ],
   "source": [
    "domain = Domain.Ball()\n",
    "\n",
    "\n",
    "def A(x, r, p):\n",
    "    return -(r / 3 + lp.dot_VV(p, p) / 3) * lp.identity(x.shape[1:])\n",
    "\n",
    "\n",
    "def B(x, r, p):\n",
    "    return (1 + 2 * r / 3 + lp.dot_VV(p, p) / 6) ** 2\n",
    "\n",
    "\n",
    "def sigma(x, r, e):\n",
    "    return np.sqrt(lp.dot_VV(e, e))\n",
    "\n",
    "\n",
    "def Exact(x):\n",
    "    return lp.dot_VV(x, x) / 2\n",
    "\n",
    "\n",
    "# TODO: initial guess\n",
    "u = newton_root(SchemeBV2, lp.dot_VV(x, x), (x, domain, A, B, 0, sigma, superbases))\n",
    "u = np.where(domain.level(x) < 0, u, np.nan)\n",
    "\n",
    "plt.contourf(*x, u)\n",
    "plt.show()\n",
    "\n",
    "err = np.where(domain.level(x) < 0, u - Exact(x), 0)\n",
    "print(\"Error:\", np.max(np.abs(err)))"
   ]
  },
  {
   "cell_type": "markdown",
   "metadata": {
    "cell_marker": "\"\"\"",
    "lines_to_next_cell": 2
   },
   "source": [
    "### 3.2. Near-field reflector design"
   ]
  },
  {
   "cell_type": "code",
   "execution_count": 14,
   "metadata": {
    "lines_to_next_cell": 2
   },
   "outputs": [
    {
     "name": "stderr",
     "output_type": "stream",
     "text": [
      "/Users/guillaume/.pyenv/versions/3.8.2/envs/notebooks/lib/python3.8/site-packages/agd/AutomaticDifferentiation/Sparse.py:100: RuntimeWarning: divide by zero encountered in true_divide\n",
      "  _concatenate(self.coef*_add_dim(1/other.value),other.coef*_add_dim(-self.value/other.value**2)),\n"
     ]
    },
    {
     "name": "stdout",
     "output_type": "stream",
     "text": [
      "Iteration: 1  Residue norm: 0.008581217955386355\n"
     ]
    },
    {
     "name": "stdout",
     "output_type": "stream",
     "text": [
      "Iteration: 2  Residue norm: 0.0017769330881758638\n"
     ]
    },
    {
     "name": "stdout",
     "output_type": "stream",
     "text": [
      "Iteration: 3  Residue norm: 0.000726181004131285\n"
     ]
    },
    {
     "name": "stdout",
     "output_type": "stream",
     "text": [
      "Iteration: 4  Residue norm: 1.3369011444733236e-05\n"
     ]
    },
    {
     "name": "stdout",
     "output_type": "stream",
     "text": [
      "Iteration: 5  Residue norm: 1.102535884811573e-08\n"
     ]
    },
    {
     "name": "stdout",
     "output_type": "stream",
     "text": [
      "Iteration: 6  Residue norm: 1.2827239270762902e-13\n",
      "Target residue reached. Terminating.\n"
     ]
    },
    {
     "data": {
      "image/png": "[encoded data removed]",
      "text/plain": [
       "<Figure size 432x288 with 1 Axes>"
      ]
     },
     "metadata": {
      "needs_background": "light"
     },
     "output_type": "display_data"
    }
   ],
   "source": [
    "domain = Domain.Ball()\n",
    "\n",
    "\n",
    "def f(x):\n",
    "    return np.ones(x.shape[1:])\n",
    "\n",
    "\n",
    "def A(x, r, p):\n",
    "    tmp = 1 + np.sqrt(1 - lp.dot_VV(p, p) / r ** 4)\n",
    "    return (2 + tmp) / r * lp.outer(p, p) - r ** 3 * tmp * lp.identity(x.shape[1:])\n",
    "\n",
    "\n",
    "def B(x, r, p):\n",
    "    tmp = 1 + np.sqrt(1 - lp.dot_VV(p, p) / r ** 4)\n",
    "    return r ** 6 * (tmp ** 3 - tmp ** 2) * f(x)\n",
    "\n",
    "\n",
    "def sigma(x, r, e):\n",
    "    return 2 * r ** 3 * (np.sqrt(lp.dot_VV(e, e)) - lp.dot_VV(x, e))\n",
    "\n",
    "\n",
    "u = newton_root(\n",
    "    SchemeBV2, np.full(x.shape[1:], 0.1), (x, domain, A, B, 0.1, sigma, superbases),\n",
    ")\n",
    "u = np.where(domain.level(x) < 0, u, np.nan)\n",
    "\n",
    "plt.contourf(*x, u)\n",
    "plt.show()"
   ]
  },
  {
   "cell_type": "code",
   "execution_count": null,
   "metadata": {},
   "outputs": [],
   "source": []
  }
 ],
 "metadata": {
  "jupytext": {
   "cell_metadata_filter": "-all"
  },
  "kernelspec": {
   "display_name": "Python 3.8.2 64-bit ('notebooks': venv)",
   "language": "python",
   "name": "python38264bitnotebooksvenv3afef271546c48f59701ae69211ecab7"
  },
  "language_info": {
   "codemirror_mode": {
    "name": "ipython",
    "version": 3
   },
   "file_extension": ".py",
   "mimetype": "text/x-python",
   "name": "python",
   "nbconvert_exporter": "python",
   "pygments_lexer": "ipython3",
   "version": "3.8.2"
  }
 },
 "nbformat": 4,
 "nbformat_minor": 4
}
